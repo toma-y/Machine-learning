{
 "cells": [
  {
   "cell_type": "markdown",
   "metadata": {},
   "source": [
    "# PCA"
   ]
  },
  {
   "cell_type": "markdown",
   "metadata": {},
   "source": [
    "## 課題\n",
    " 　あるクラウドファンディングプロジェクトが成功するか失敗するかをプロジェクト開始前に予測する。\n",
    " \n",
    "## データセット\n",
    "　 Kaggle Kickstarter-projects-201801.csv"
   ]
  },
  {
   "cell_type": "markdown",
   "metadata": {},
   "source": [
    "## Agenda\n",
    "\n",
    "以下の流れで、ノートブックを作成しています。\n",
    "<br>\n",
    " <br>\n",
    "(1) データの前処理\n",
    " <br>\n",
    " データの中身を確認し、前処理を行う。\n",
    " <br>\n",
    " <br>\n",
    " <br>\n",
    "  (2) PCAのモデル構築\n",
    " <br>\n",
    "  　前処理を行ったデータに対して、PCAのモデル構築を行う。\n",
    " <br>\n",
    " <br>\n",
    " <br>\n",
    " <br>\n",
    "  (3-1) モデル構築 (ニューラルネットワーク)\n",
    " <br>\n",
    "  　ニューラルネットワークのモデル構築を行う。このモデルを「モデル1」とし、次元圧縮を行っていないデータ(前処理済み)を用いたときのモデルの性能評価を行う。\n",
    " <br>\n",
    " <br>\n",
    "  (3-2) モデル1に対して交点探索\n",
    " <br>\n",
    "  　モデル1に対して交点探索を適用し、ハイパーパラメータチューニングを行う。\n",
    " <br>\n",
    " <br>\n",
    "   (3-3) モデル1に対してランダムサーチ\n",
    " <br>\n",
    "  　モデル1に対してランダムサーチを適用し、ハイパーパラメータチューニングを行う。\n",
    " <br>\n",
    " <br>\n",
    "    (3-4) モデル1に対してベイズ最適化\n",
    " <br>\n",
    "  　モデル1に対してベイズ最適化を適用し、ハイパーパラメータチューニングを行う。\n",
    " <br>\n",
    " <br>\n",
    "  (3-5) モデル1に対する交点探索、ランダムサーチ、ベイズ最適化の精度の比較\n",
    " <br>\n",
    " <br>\n",
    " <br>\n",
    " <br>\n",
    "  (4-1) (2)で次元圧縮したデータに対して性能評価\n",
    "      <br>\n",
    "  　PCAで次元圧縮を行ったデータに対するニューラルネットワークを構築する。このモデルを「モデル2」とし、次元圧縮を行ったデータを用いたときのモデルの性能評価を行う。\n",
    " <br>\n",
    " <br>\n",
    " (4-2) モデル2に対して交点探索\n",
    " <br>\n",
    "  　モデル2に対して交点探索を適用し、ハイパーパラメータチューニングを行う。\n",
    " <br>\n",
    " <br>\n",
    "   (4-3) モデル2に対してランダムサーチ\n",
    " <br>\n",
    "  　モデル2に対してランダムサーチを適用し、ハイパーパラメータチューニングを行う。\n",
    " <br>\n",
    " <br>\n",
    "    (4-4) モデル2に対してベイズ最適化\n",
    " <br>\n",
    "  　モデル2に対してベイズ最適化を適用し、ハイパーパラメータチューニングを行う。\n",
    " <br>\n",
    " <br>\n",
    "  (4-5) モデル2に対する交点探索、ランダムサーチ、ベイズ最適化の精度の比較\n",
    " <br>\n",
    " <br>\n",
    " <br>\n",
    " <br>\n",
    "  (5) 次元圧縮していないデータを用いたときと次元圧縮したデータを用いたときの比較\n",
    " <br>\n",
    " 　モデル1とモデル2の精度を比較する。\n",
    " <br>\n",
    " <br>\n",
    " <br>\n",
    " <br>"
   ]
  },
  {
   "cell_type": "markdown",
   "metadata": {},
   "source": [
    "## (1) データの前処理"
   ]
  },
  {
   "cell_type": "markdown",
   "metadata": {},
   "source": [
    "データの中身を確認し、前処理を行う。"
   ]
  },
  {
   "cell_type": "code",
   "execution_count": 1,
   "metadata": {},
   "outputs": [],
   "source": [
    "# ライブラリのインポート\n",
    "import numpy as np\n",
    "import pandas as pd\n",
    "from matplotlib import pyplot as plt\n",
    "import seaborn as sns\n",
    "%matplotlib inline"
   ]
  },
  {
   "cell_type": "code",
   "execution_count": 2,
   "metadata": {},
   "outputs": [],
   "source": [
    "#データセットのインポート\n",
    "df = pd.read_csv(\"../1_data/ks-projects-201801.csv\")"
   ]
  },
  {
   "cell_type": "markdown",
   "metadata": {},
   "source": [
    "### ・データの中身を確認"
   ]
  },
  {
   "cell_type": "code",
   "execution_count": 3,
   "metadata": {},
   "outputs": [
    {
     "name": "stdout",
     "output_type": "stream",
     "text": [
      "<class 'pandas.core.frame.DataFrame'>\n",
      "RangeIndex: 378661 entries, 0 to 378660\n",
      "Data columns (total 15 columns):\n",
      "ID                  378661 non-null int64\n",
      "name                378657 non-null object\n",
      "category            378661 non-null object\n",
      "main_category       378661 non-null object\n",
      "currency            378661 non-null object\n",
      "deadline            378661 non-null object\n",
      "goal                378661 non-null float64\n",
      "launched            378661 non-null object\n",
      "pledged             378661 non-null float64\n",
      "state               378661 non-null object\n",
      "backers             378661 non-null int64\n",
      "country             378661 non-null object\n",
      "usd pledged         374864 non-null float64\n",
      "usd_pledged_real    378661 non-null float64\n",
      "usd_goal_real       378661 non-null float64\n",
      "dtypes: float64(5), int64(2), object(8)\n",
      "memory usage: 43.3+ MB\n"
     ]
    }
   ],
   "source": [
    "df.info()"
   ]
  },
  {
   "cell_type": "markdown",
   "metadata": {},
   "source": [
    "行数：378660\n",
    "<br>\n",
    "列数：15\n",
    "<br>\n",
    "「name」と「usd pledged」に欠損値あり\n",
    "<br>\n",
    "object(文字列)が混ざっている"
   ]
  },
  {
   "cell_type": "markdown",
   "metadata": {},
   "source": [
    "### ・欠損値の確認"
   ]
  },
  {
   "cell_type": "code",
   "execution_count": 4,
   "metadata": {},
   "outputs": [
    {
     "data": {
      "text/plain": [
       "ID                     0\n",
       "name                   4\n",
       "category               0\n",
       "main_category          0\n",
       "currency               0\n",
       "deadline               0\n",
       "goal                   0\n",
       "launched               0\n",
       "pledged                0\n",
       "state                  0\n",
       "backers                0\n",
       "country                0\n",
       "usd pledged         3797\n",
       "usd_pledged_real       0\n",
       "usd_goal_real          0\n",
       "dtype: int64"
      ]
     },
     "execution_count": 4,
     "metadata": {},
     "output_type": "execute_result"
    }
   ],
   "source": [
    "# カラムごとに含まれている欠損値の数を表示\n",
    "df.isnull().sum()"
   ]
  },
  {
   "cell_type": "markdown",
   "metadata": {},
   "source": [
    "### ・データ加工"
   ]
  },
  {
   "cell_type": "markdown",
   "metadata": {},
   "source": [
    "#### ①プロジェクト期間に変換"
   ]
  },
  {
   "cell_type": "markdown",
   "metadata": {},
   "source": [
    "「deadline」と「launched」に注目\n",
    "<br>\n",
    "「launched」はプロジェクトの開始日、「deadline」はプロジェクトの終了日だが、その間の日数が重要\n",
    "<br>\n",
    "「deadline」と「launched」をobject型からdatetime型に変更し、プロジェクト期間として扱う。"
   ]
  },
  {
   "cell_type": "code",
   "execution_count": 5,
   "metadata": {},
   "outputs": [],
   "source": [
    "df['deadline'] = pd.to_datetime(df['deadline'], errors = 'coerce')\n",
    "df['launched'] = pd.to_datetime(df['launched'], errors = 'coerce')"
   ]
  },
  {
   "cell_type": "code",
   "execution_count": 6,
   "metadata": {},
   "outputs": [],
   "source": [
    "#日数 period\n",
    "df['period'] = (df['deadline'] - df['launched']).dt.days"
   ]
  },
  {
   "cell_type": "code",
   "execution_count": 7,
   "metadata": {},
   "outputs": [],
   "source": [
    "#不要になった「deadline」と「launched」の列を削除\n",
    "df = df.drop(['deadline', 'launched'], axis=1)"
   ]
  },
  {
   "cell_type": "markdown",
   "metadata": {},
   "source": [
    "#### ②不要である変数の削除"
   ]
  },
  {
   "cell_type": "markdown",
   "metadata": {},
   "source": [
    "・「ID」「name」「currency」「country」はプロジェクトの成功に関係がないと考え、削除。\n",
    "<br>\n",
    "・「goal」は「usd_goal_real」があるので削除。\n",
    "<br>\n",
    "・「backers」「pledged」「usd pledged」「usd_pledged_real」は、プロジェクト開始前に知りえない情報なので削除。"
   ]
  },
  {
   "cell_type": "code",
   "execution_count": 8,
   "metadata": {
    "scrolled": true
   },
   "outputs": [],
   "source": [
    "df = df.drop(['ID','name','currency','country','goal','backers','pledged','usd pledged','usd_pledged_real'], axis=1)"
   ]
  },
  {
   "cell_type": "markdown",
   "metadata": {},
   "source": [
    "#### ③欠損値を含む行を削除"
   ]
  },
  {
   "cell_type": "code",
   "execution_count": 9,
   "metadata": {},
   "outputs": [
    {
     "data": {
      "text/plain": [
       "category         0\n",
       "main_category    0\n",
       "state            0\n",
       "usd_goal_real    0\n",
       "period           0\n",
       "dtype: int64"
      ]
     },
     "execution_count": 9,
     "metadata": {},
     "output_type": "execute_result"
    }
   ],
   "source": [
    "# カラムごとに含まれている欠損値の数を表示\n",
    "df.isnull().sum()"
   ]
  },
  {
   "cell_type": "markdown",
   "metadata": {},
   "source": [
    "欠損値なし。"
   ]
  },
  {
   "cell_type": "markdown",
   "metadata": {},
   "source": [
    "#### ④目的変数「state」の処理"
   ]
  },
  {
   "cell_type": "markdown",
   "metadata": {},
   "source": [
    "「state」の中身を確認"
   ]
  },
  {
   "cell_type": "code",
   "execution_count": 10,
   "metadata": {},
   "outputs": [
    {
     "data": {
      "text/plain": [
       "array(['failed', 'canceled', 'successful', 'live', 'undefined',\n",
       "       'suspended'], dtype=object)"
      ]
     },
     "execution_count": 10,
     "metadata": {},
     "output_type": "execute_result"
    }
   ],
   "source": [
    "df['state'].unique()"
   ]
  },
  {
   "cell_type": "markdown",
   "metadata": {},
   "source": [
    "今回は、あるクラウドファンディングプロジェクトが成功するか失敗するかをプロジェクト開始前に予測するモデルを構築するので、「failed」と「successful」以外の行を削除"
   ]
  },
  {
   "cell_type": "code",
   "execution_count": 11,
   "metadata": {},
   "outputs": [
    {
     "data": {
      "text/plain": [
       "array(['failed', 'successful'], dtype=object)"
      ]
     },
     "execution_count": 11,
     "metadata": {},
     "output_type": "execute_result"
    }
   ],
   "source": [
    "df = df[(df['state'] == 'successful') | (df['state'] == 'failed')]\n",
    "df['state'].unique()"
   ]
  },
  {
   "cell_type": "markdown",
   "metadata": {},
   "source": [
    "「failed」を0,「successful」を1として表現する"
   ]
  },
  {
   "cell_type": "code",
   "execution_count": 12,
   "metadata": {},
   "outputs": [
    {
     "data": {
      "text/plain": [
       "array([0, 1], dtype=int64)"
      ]
     },
     "execution_count": 12,
     "metadata": {},
     "output_type": "execute_result"
    }
   ],
   "source": [
    "df['state'] = df['state'].map({\n",
    "    'failed': 0,\n",
    "    'successful': 1         \n",
    "})\n",
    "df['state'].unique()"
   ]
  },
  {
   "cell_type": "markdown",
   "metadata": {},
   "source": [
    "#### ⑤データを表示"
   ]
  },
  {
   "cell_type": "code",
   "execution_count": 13,
   "metadata": {},
   "outputs": [
    {
     "data": {
      "text/html": [
       "<div>\n",
       "<style scoped>\n",
       "    .dataframe tbody tr th:only-of-type {\n",
       "        vertical-align: middle;\n",
       "    }\n",
       "\n",
       "    .dataframe tbody tr th {\n",
       "        vertical-align: top;\n",
       "    }\n",
       "\n",
       "    .dataframe thead th {\n",
       "        text-align: right;\n",
       "    }\n",
       "</style>\n",
       "<table border=\"1\" class=\"dataframe\">\n",
       "  <thead>\n",
       "    <tr style=\"text-align: right;\">\n",
       "      <th></th>\n",
       "      <th>state</th>\n",
       "      <th>category</th>\n",
       "      <th>main_category</th>\n",
       "      <th>usd_goal_real</th>\n",
       "      <th>period</th>\n",
       "    </tr>\n",
       "  </thead>\n",
       "  <tbody>\n",
       "    <tr>\n",
       "      <th>0</th>\n",
       "      <td>0</td>\n",
       "      <td>Poetry</td>\n",
       "      <td>Publishing</td>\n",
       "      <td>1533.95</td>\n",
       "      <td>58</td>\n",
       "    </tr>\n",
       "    <tr>\n",
       "      <th>1</th>\n",
       "      <td>0</td>\n",
       "      <td>Narrative Film</td>\n",
       "      <td>Film &amp; Video</td>\n",
       "      <td>30000.00</td>\n",
       "      <td>59</td>\n",
       "    </tr>\n",
       "    <tr>\n",
       "      <th>2</th>\n",
       "      <td>0</td>\n",
       "      <td>Narrative Film</td>\n",
       "      <td>Film &amp; Video</td>\n",
       "      <td>45000.00</td>\n",
       "      <td>44</td>\n",
       "    </tr>\n",
       "    <tr>\n",
       "      <th>3</th>\n",
       "      <td>0</td>\n",
       "      <td>Music</td>\n",
       "      <td>Music</td>\n",
       "      <td>5000.00</td>\n",
       "      <td>29</td>\n",
       "    </tr>\n",
       "    <tr>\n",
       "      <th>5</th>\n",
       "      <td>1</td>\n",
       "      <td>Restaurants</td>\n",
       "      <td>Food</td>\n",
       "      <td>50000.00</td>\n",
       "      <td>34</td>\n",
       "    </tr>\n",
       "    <tr>\n",
       "      <th>6</th>\n",
       "      <td>1</td>\n",
       "      <td>Food</td>\n",
       "      <td>Food</td>\n",
       "      <td>1000.00</td>\n",
       "      <td>19</td>\n",
       "    </tr>\n",
       "    <tr>\n",
       "      <th>7</th>\n",
       "      <td>0</td>\n",
       "      <td>Drinks</td>\n",
       "      <td>Food</td>\n",
       "      <td>25000.00</td>\n",
       "      <td>44</td>\n",
       "    </tr>\n",
       "    <tr>\n",
       "      <th>10</th>\n",
       "      <td>0</td>\n",
       "      <td>Nonfiction</td>\n",
       "      <td>Publishing</td>\n",
       "      <td>2406.39</td>\n",
       "      <td>29</td>\n",
       "    </tr>\n",
       "    <tr>\n",
       "      <th>11</th>\n",
       "      <td>1</td>\n",
       "      <td>Indie Rock</td>\n",
       "      <td>Music</td>\n",
       "      <td>12500.00</td>\n",
       "      <td>29</td>\n",
       "    </tr>\n",
       "    <tr>\n",
       "      <th>12</th>\n",
       "      <td>0</td>\n",
       "      <td>Crafts</td>\n",
       "      <td>Crafts</td>\n",
       "      <td>5000.00</td>\n",
       "      <td>29</td>\n",
       "    </tr>\n",
       "  </tbody>\n",
       "</table>\n",
       "</div>"
      ],
      "text/plain": [
       "    state        category main_category  usd_goal_real  period\n",
       "0       0          Poetry    Publishing        1533.95      58\n",
       "1       0  Narrative Film  Film & Video       30000.00      59\n",
       "2       0  Narrative Film  Film & Video       45000.00      44\n",
       "3       0           Music         Music        5000.00      29\n",
       "5       1     Restaurants          Food       50000.00      34\n",
       "6       1            Food          Food        1000.00      19\n",
       "7       0          Drinks          Food       25000.00      44\n",
       "10      0      Nonfiction    Publishing        2406.39      29\n",
       "11      1      Indie Rock         Music       12500.00      29\n",
       "12      0          Crafts        Crafts        5000.00      29"
      ]
     },
     "execution_count": 13,
     "metadata": {},
     "output_type": "execute_result"
    }
   ],
   "source": [
    "#見やすいようにstateを1列目に移動\n",
    "first_column = df.pop('state')\n",
    "df.insert(0,'state',first_column)\n",
    "df.head(10)"
   ]
  },
  {
   "cell_type": "markdown",
   "metadata": {},
   "source": [
    "#### ⑥各要素と「state」との関係を可視化"
   ]
  },
  {
   "cell_type": "code",
   "execution_count": 14,
   "metadata": {},
   "outputs": [
    {
     "data": {
      "text/html": [
       "<style  type=\"text/css\" >\n",
       "    #T_3d962a34_4c69_11ed_8e10_28d0ea6a37b2row0_col0 {\n",
       "            background-color:  #ff0000;\n",
       "            color:  #f1f1f1;\n",
       "        }    #T_3d962a34_4c69_11ed_8e10_28d0ea6a37b2row0_col1 {\n",
       "            background-color:  #ffff00;\n",
       "            color:  #000000;\n",
       "        }    #T_3d962a34_4c69_11ed_8e10_28d0ea6a37b2row0_col2 {\n",
       "            background-color:  #ffff00;\n",
       "            color:  #000000;\n",
       "        }    #T_3d962a34_4c69_11ed_8e10_28d0ea6a37b2row1_col0 {\n",
       "            background-color:  #ffea00;\n",
       "            color:  #000000;\n",
       "        }    #T_3d962a34_4c69_11ed_8e10_28d0ea6a37b2row1_col1 {\n",
       "            background-color:  #ff0000;\n",
       "            color:  #f1f1f1;\n",
       "        }    #T_3d962a34_4c69_11ed_8e10_28d0ea6a37b2row1_col2 {\n",
       "            background-color:  #ffe000;\n",
       "            color:  #000000;\n",
       "        }    #T_3d962a34_4c69_11ed_8e10_28d0ea6a37b2row2_col0 {\n",
       "            background-color:  #ffff00;\n",
       "            color:  #000000;\n",
       "        }    #T_3d962a34_4c69_11ed_8e10_28d0ea6a37b2row2_col1 {\n",
       "            background-color:  #fff400;\n",
       "            color:  #000000;\n",
       "        }    #T_3d962a34_4c69_11ed_8e10_28d0ea6a37b2row2_col2 {\n",
       "            background-color:  #ff0000;\n",
       "            color:  #f1f1f1;\n",
       "        }</style><table id=\"T_3d962a34_4c69_11ed_8e10_28d0ea6a37b2\" ><thead>    <tr>        <th class=\"blank level0\" ></th>        <th class=\"col_heading level0 col0\" >state</th>        <th class=\"col_heading level0 col1\" >usd_goal_real</th>        <th class=\"col_heading level0 col2\" >period</th>    </tr></thead><tbody>\n",
       "                <tr>\n",
       "                        <th id=\"T_3d962a34_4c69_11ed_8e10_28d0ea6a37b2level0_row0\" class=\"row_heading level0 row0\" >state</th>\n",
       "                        <td id=\"T_3d962a34_4c69_11ed_8e10_28d0ea6a37b2row0_col0\" class=\"data row0 col0\" >1</td>\n",
       "                        <td id=\"T_3d962a34_4c69_11ed_8e10_28d0ea6a37b2row0_col1\" class=\"data row0 col1\" >-0.0237352</td>\n",
       "                        <td id=\"T_3d962a34_4c69_11ed_8e10_28d0ea6a37b2row0_col2\" class=\"data row0 col2\" >-0.116437</td>\n",
       "            </tr>\n",
       "            <tr>\n",
       "                        <th id=\"T_3d962a34_4c69_11ed_8e10_28d0ea6a37b2level0_row1\" class=\"row_heading level0 row1\" >usd_goal_real</th>\n",
       "                        <td id=\"T_3d962a34_4c69_11ed_8e10_28d0ea6a37b2row1_col0\" class=\"data row1 col0\" >-0.0237352</td>\n",
       "                        <td id=\"T_3d962a34_4c69_11ed_8e10_28d0ea6a37b2row1_col1\" class=\"data row1 col1\" >1</td>\n",
       "                        <td id=\"T_3d962a34_4c69_11ed_8e10_28d0ea6a37b2row1_col2\" class=\"data row1 col2\" >0.0216067</td>\n",
       "            </tr>\n",
       "            <tr>\n",
       "                        <th id=\"T_3d962a34_4c69_11ed_8e10_28d0ea6a37b2level0_row2\" class=\"row_heading level0 row2\" >period</th>\n",
       "                        <td id=\"T_3d962a34_4c69_11ed_8e10_28d0ea6a37b2row2_col0\" class=\"data row2 col0\" >-0.116437</td>\n",
       "                        <td id=\"T_3d962a34_4c69_11ed_8e10_28d0ea6a37b2row2_col1\" class=\"data row2 col1\" >0.0216067</td>\n",
       "                        <td id=\"T_3d962a34_4c69_11ed_8e10_28d0ea6a37b2row2_col2\" class=\"data row2 col2\" >1</td>\n",
       "            </tr>\n",
       "    </tbody></table>"
      ],
      "text/plain": [
       "<pandas.io.formats.style.Styler at 0x1b920a49d30>"
      ]
     },
     "execution_count": 14,
     "metadata": {},
     "output_type": "execute_result"
    }
   ],
   "source": [
    "#train.corr()はデータの各要素（各列）同士の相関係数を表形式で視覚化する\n",
    "#文字列データは自動的に外してくれる\n",
    "df.corr().style.background_gradient(cmap=\"autumn_r\")"
   ]
  },
  {
   "cell_type": "code",
   "execution_count": 15,
   "metadata": {},
   "outputs": [
    {
     "data": {
      "image/png": "[encoded data removed]",
      "text/plain": [
       "<Figure size 432x288 with 2 Axes>"
      ]
     },
     "metadata": {
      "needs_background": "light"
     },
     "output_type": "display_data"
    }
   ],
   "source": [
    "# seabornのheatmapを用いて量的変数の相関を可視化\n",
    "sns.heatmap(df.corr(), cmap = \"summer\", annot = True)\n",
    "plt.show()"
   ]
  },
  {
   "cell_type": "markdown",
   "metadata": {},
   "source": [
    "#### ⑥「category」と「main_category」"
   ]
  },
  {
   "cell_type": "markdown",
   "metadata": {},
   "source": [
    "「category」と「main_category」の中身を確認"
   ]
  },
  {
   "cell_type": "code",
   "execution_count": 16,
   "metadata": {},
   "outputs": [
    {
     "data": {
      "text/plain": [
       "array(['Poetry', 'Narrative Film', 'Music', 'Restaurants', 'Food',\n",
       "       'Drinks', 'Nonfiction', 'Indie Rock', 'Crafts', 'Games',\n",
       "       'Tabletop Games', 'Design', 'Comic Books', 'Art Books', 'Fashion',\n",
       "       'Childrenswear', 'Theater', 'Comics', 'DIY', 'Webseries',\n",
       "       'Animation', 'Food Trucks', 'Product Design', 'Public Art',\n",
       "       'Documentary', 'Illustration', 'Photography', 'Pop', 'People',\n",
       "       'Art', 'Family', 'Fiction', 'Film & Video', 'Accessories', 'Rock',\n",
       "       'Hardware', 'Software', 'Weaving', 'Web', 'Jazz', 'Ready-to-wear',\n",
       "       'Festivals', 'Video Games', 'Anthologies', 'Publishing', 'Shorts',\n",
       "       'Gadgets', 'Electronic Music', 'Radio & Podcasts', 'Cookbooks',\n",
       "       'Apparel', 'Metal', 'Comedy', 'Hip-Hop', 'Periodicals', 'Dance',\n",
       "       'Technology', 'Painting', 'World Music', 'Photobooks', 'Drama',\n",
       "       'Architecture', 'Young Adult', 'Latin', 'Mobile Games', 'Flight',\n",
       "       'Fine Art', 'Action', 'Playing Cards', 'Makerspaces', 'Punk',\n",
       "       \"Children's Books\", 'Apps', 'Audio', 'Performance Art', 'Ceramics',\n",
       "       'Vegan', 'Graphic Novels', 'Fabrication Tools', 'Performances',\n",
       "       'Sculpture', 'Sound', 'Stationery', 'Print', \"Farmer's Markets\",\n",
       "       'Thrillers', 'Events', 'Classical Music', 'Graphic Design',\n",
       "       'Spaces', 'Country & Folk', 'Wearables', 'Journalism',\n",
       "       'Mixed Media', 'Movie Theaters', 'Animals', 'Digital Art',\n",
       "       'Knitting', 'Installations', 'Community Gardens',\n",
       "       'DIY Electronics', 'Embroidery', 'Camera Equipment', 'Jewelry',\n",
       "       'Farms', 'Conceptual Art', 'Fantasy', 'Webcomics', 'Horror',\n",
       "       'Experimental', 'Science Fiction', 'Puzzles', 'R&B',\n",
       "       'Music Videos', 'Video', 'Plays', 'Blues', 'Bacon', 'Faith',\n",
       "       'Live Games', 'Small Batch', 'Woodworking', 'Places', 'Footwear',\n",
       "       '3D Printing', 'Zines', 'Musical', 'Workshops', 'Photo',\n",
       "       'Immersive', 'Letterpress', 'Academic', 'Candles', 'Television',\n",
       "       'Space Exploration', 'Gaming Hardware', 'Nature', 'Robots',\n",
       "       'Typography', 'Translations', 'Calendars', 'Textiles', 'Pottery',\n",
       "       'Interactive Design', 'Video Art', 'Glass', 'Pet Fashion',\n",
       "       'Crochet', 'Printing', 'Romance', 'Civic Design', 'Kids',\n",
       "       'Literary Journals', 'Couture', 'Taxidermy', 'Quilts', 'Chiptune',\n",
       "       'Residencies', 'Literary Spaces'], dtype=object)"
      ]
     },
     "execution_count": 16,
     "metadata": {},
     "output_type": "execute_result"
    }
   ],
   "source": [
    "df['category'].unique()"
   ]
  },
  {
   "cell_type": "code",
   "execution_count": 17,
   "metadata": {},
   "outputs": [
    {
     "data": {
      "text/plain": [
       "array(['Publishing', 'Film & Video', 'Music', 'Food', 'Crafts', 'Games',\n",
       "       'Design', 'Comics', 'Fashion', 'Theater', 'Art', 'Photography',\n",
       "       'Technology', 'Dance', 'Journalism'], dtype=object)"
      ]
     },
     "execution_count": 17,
     "metadata": {},
     "output_type": "execute_result"
    }
   ],
   "source": [
    "df['main_category'].unique()"
   ]
  },
  {
   "cell_type": "markdown",
   "metadata": {},
   "source": [
    "「category」は「main_category」で表現できるので削除。"
   ]
  },
  {
   "cell_type": "code",
   "execution_count": 18,
   "metadata": {},
   "outputs": [],
   "source": [
    "df = df.drop(['category'], axis=1)"
   ]
  },
  {
   "cell_type": "markdown",
   "metadata": {},
   "source": [
    "#### ⑥ダミー変換"
   ]
  },
  {
   "cell_type": "markdown",
   "metadata": {},
   "source": [
    "「main_category」をダミー変換"
   ]
  },
  {
   "cell_type": "code",
   "execution_count": 19,
   "metadata": {},
   "outputs": [
    {
     "data": {
      "text/plain": [
       "Index(['state', 'usd_goal_real', 'period', 'main_category_Art',\n",
       "       'main_category_Comics', 'main_category_Crafts', 'main_category_Dance',\n",
       "       'main_category_Design', 'main_category_Fashion',\n",
       "       'main_category_Film & Video', 'main_category_Food',\n",
       "       'main_category_Games', 'main_category_Journalism',\n",
       "       'main_category_Music', 'main_category_Photography',\n",
       "       'main_category_Publishing', 'main_category_Technology',\n",
       "       'main_category_Theater'],\n",
       "      dtype='object')"
      ]
     },
     "execution_count": 19,
     "metadata": {},
     "output_type": "execute_result"
    }
   ],
   "source": [
    "df = pd.get_dummies(df , ['main_category'])\n",
    "df.columns"
   ]
  },
  {
   "cell_type": "markdown",
   "metadata": {},
   "source": [
    "## (2) PCAのモデル構築"
   ]
  },
  {
   "cell_type": "markdown",
   "metadata": {},
   "source": [
    "前処理を行ったデータに対して、PCAのモデル構築を行う。"
   ]
  },
  {
   "cell_type": "code",
   "execution_count": 20,
   "metadata": {},
   "outputs": [
    {
     "name": "stderr",
     "output_type": "stream",
     "text": [
      "C:\\Users\\yoshi\\Anaconda3\\lib\\site-packages\\sklearn\\utils\\validation.py:37: DeprecationWarning: distutils Version classes are deprecated. Use packaging.version instead.\n",
      "  LARGE_SPARSE_SUPPORTED = LooseVersion(scipy_version) >= '0.14.0'\n"
     ]
    }
   ],
   "source": [
    "%matplotlib inline\n",
    "import pandas as pd\n",
    "import numpy as np\n",
    "import matplotlib.pyplot as plt\n",
    "from sklearn.decomposition import PCA #主成分分析用ライブラリ\n",
    "from sklearn.preprocessing import StandardScaler"
   ]
  },
  {
   "cell_type": "markdown",
   "metadata": {},
   "source": [
    "### ・データの中身を確認"
   ]
  },
  {
   "cell_type": "code",
   "execution_count": 21,
   "metadata": {},
   "outputs": [
    {
     "name": "stdout",
     "output_type": "stream",
     "text": [
      "<class 'pandas.core.frame.DataFrame'>\n",
      "Int64Index: 331675 entries, 0 to 378660\n",
      "Data columns (total 18 columns):\n",
      "state                         331675 non-null int64\n",
      "usd_goal_real                 331675 non-null float64\n",
      "period                        331675 non-null int64\n",
      "main_category_Art             331675 non-null uint8\n",
      "main_category_Comics          331675 non-null uint8\n",
      "main_category_Crafts          331675 non-null uint8\n",
      "main_category_Dance           331675 non-null uint8\n",
      "main_category_Design          331675 non-null uint8\n",
      "main_category_Fashion         331675 non-null uint8\n",
      "main_category_Film & Video    331675 non-null uint8\n",
      "main_category_Food            331675 non-null uint8\n",
      "main_category_Games           331675 non-null uint8\n",
      "main_category_Journalism      331675 non-null uint8\n",
      "main_category_Music           331675 non-null uint8\n",
      "main_category_Photography     331675 non-null uint8\n",
      "main_category_Publishing      331675 non-null uint8\n",
      "main_category_Technology      331675 non-null uint8\n",
      "main_category_Theater         331675 non-null uint8\n",
      "dtypes: float64(1), int64(2), uint8(15)\n",
      "memory usage: 14.9 MB\n"
     ]
    }
   ],
   "source": [
    "df.info()"
   ]
  },
  {
   "cell_type": "markdown",
   "metadata": {},
   "source": [
    "目的変数：「state」\n",
    "<br>\n",
    "説明変数：計17個"
   ]
  },
  {
   "cell_type": "code",
   "execution_count": 22,
   "metadata": {},
   "outputs": [
    {
     "data": {
      "text/html": [
       "<div>\n",
       "<style scoped>\n",
       "    .dataframe tbody tr th:only-of-type {\n",
       "        vertical-align: middle;\n",
       "    }\n",
       "\n",
       "    .dataframe tbody tr th {\n",
       "        vertical-align: top;\n",
       "    }\n",
       "\n",
       "    .dataframe thead th {\n",
       "        text-align: right;\n",
       "    }\n",
       "</style>\n",
       "<table border=\"1\" class=\"dataframe\">\n",
       "  <thead>\n",
       "    <tr style=\"text-align: right;\">\n",
       "      <th></th>\n",
       "      <th>state</th>\n",
       "      <th>usd_goal_real</th>\n",
       "      <th>period</th>\n",
       "      <th>main_category_Art</th>\n",
       "      <th>main_category_Comics</th>\n",
       "      <th>main_category_Crafts</th>\n",
       "      <th>main_category_Dance</th>\n",
       "      <th>main_category_Design</th>\n",
       "      <th>main_category_Fashion</th>\n",
       "      <th>main_category_Film &amp; Video</th>\n",
       "      <th>main_category_Food</th>\n",
       "      <th>main_category_Games</th>\n",
       "      <th>main_category_Journalism</th>\n",
       "      <th>main_category_Music</th>\n",
       "      <th>main_category_Photography</th>\n",
       "      <th>main_category_Publishing</th>\n",
       "      <th>main_category_Technology</th>\n",
       "      <th>main_category_Theater</th>\n",
       "    </tr>\n",
       "  </thead>\n",
       "  <tbody>\n",
       "    <tr>\n",
       "      <th>0</th>\n",
       "      <td>0</td>\n",
       "      <td>1533.95</td>\n",
       "      <td>58</td>\n",
       "      <td>0</td>\n",
       "      <td>0</td>\n",
       "      <td>0</td>\n",
       "      <td>0</td>\n",
       "      <td>0</td>\n",
       "      <td>0</td>\n",
       "      <td>0</td>\n",
       "      <td>0</td>\n",
       "      <td>0</td>\n",
       "      <td>0</td>\n",
       "      <td>0</td>\n",
       "      <td>0</td>\n",
       "      <td>1</td>\n",
       "      <td>0</td>\n",
       "      <td>0</td>\n",
       "    </tr>\n",
       "    <tr>\n",
       "      <th>1</th>\n",
       "      <td>0</td>\n",
       "      <td>30000.00</td>\n",
       "      <td>59</td>\n",
       "      <td>0</td>\n",
       "      <td>0</td>\n",
       "      <td>0</td>\n",
       "      <td>0</td>\n",
       "      <td>0</td>\n",
       "      <td>0</td>\n",
       "      <td>1</td>\n",
       "      <td>0</td>\n",
       "      <td>0</td>\n",
       "      <td>0</td>\n",
       "      <td>0</td>\n",
       "      <td>0</td>\n",
       "      <td>0</td>\n",
       "      <td>0</td>\n",
       "      <td>0</td>\n",
       "    </tr>\n",
       "    <tr>\n",
       "      <th>2</th>\n",
       "      <td>0</td>\n",
       "      <td>45000.00</td>\n",
       "      <td>44</td>\n",
       "      <td>0</td>\n",
       "      <td>0</td>\n",
       "      <td>0</td>\n",
       "      <td>0</td>\n",
       "      <td>0</td>\n",
       "      <td>0</td>\n",
       "      <td>1</td>\n",
       "      <td>0</td>\n",
       "      <td>0</td>\n",
       "      <td>0</td>\n",
       "      <td>0</td>\n",
       "      <td>0</td>\n",
       "      <td>0</td>\n",
       "      <td>0</td>\n",
       "      <td>0</td>\n",
       "    </tr>\n",
       "    <tr>\n",
       "      <th>3</th>\n",
       "      <td>0</td>\n",
       "      <td>5000.00</td>\n",
       "      <td>29</td>\n",
       "      <td>0</td>\n",
       "      <td>0</td>\n",
       "      <td>0</td>\n",
       "      <td>0</td>\n",
       "      <td>0</td>\n",
       "      <td>0</td>\n",
       "      <td>0</td>\n",
       "      <td>0</td>\n",
       "      <td>0</td>\n",
       "      <td>0</td>\n",
       "      <td>1</td>\n",
       "      <td>0</td>\n",
       "      <td>0</td>\n",
       "      <td>0</td>\n",
       "      <td>0</td>\n",
       "    </tr>\n",
       "    <tr>\n",
       "      <th>5</th>\n",
       "      <td>1</td>\n",
       "      <td>50000.00</td>\n",
       "      <td>34</td>\n",
       "      <td>0</td>\n",
       "      <td>0</td>\n",
       "      <td>0</td>\n",
       "      <td>0</td>\n",
       "      <td>0</td>\n",
       "      <td>0</td>\n",
       "      <td>0</td>\n",
       "      <td>1</td>\n",
       "      <td>0</td>\n",
       "      <td>0</td>\n",
       "      <td>0</td>\n",
       "      <td>0</td>\n",
       "      <td>0</td>\n",
       "      <td>0</td>\n",
       "      <td>0</td>\n",
       "    </tr>\n",
       "    <tr>\n",
       "      <th>6</th>\n",
       "      <td>1</td>\n",
       "      <td>1000.00</td>\n",
       "      <td>19</td>\n",
       "      <td>0</td>\n",
       "      <td>0</td>\n",
       "      <td>0</td>\n",
       "      <td>0</td>\n",
       "      <td>0</td>\n",
       "      <td>0</td>\n",
       "      <td>0</td>\n",
       "      <td>1</td>\n",
       "      <td>0</td>\n",
       "      <td>0</td>\n",
       "      <td>0</td>\n",
       "      <td>0</td>\n",
       "      <td>0</td>\n",
       "      <td>0</td>\n",
       "      <td>0</td>\n",
       "    </tr>\n",
       "    <tr>\n",
       "      <th>7</th>\n",
       "      <td>0</td>\n",
       "      <td>25000.00</td>\n",
       "      <td>44</td>\n",
       "      <td>0</td>\n",
       "      <td>0</td>\n",
       "      <td>0</td>\n",
       "      <td>0</td>\n",
       "      <td>0</td>\n",
       "      <td>0</td>\n",
       "      <td>0</td>\n",
       "      <td>1</td>\n",
       "      <td>0</td>\n",
       "      <td>0</td>\n",
       "      <td>0</td>\n",
       "      <td>0</td>\n",
       "      <td>0</td>\n",
       "      <td>0</td>\n",
       "      <td>0</td>\n",
       "    </tr>\n",
       "    <tr>\n",
       "      <th>10</th>\n",
       "      <td>0</td>\n",
       "      <td>2406.39</td>\n",
       "      <td>29</td>\n",
       "      <td>0</td>\n",
       "      <td>0</td>\n",
       "      <td>0</td>\n",
       "      <td>0</td>\n",
       "      <td>0</td>\n",
       "      <td>0</td>\n",
       "      <td>0</td>\n",
       "      <td>0</td>\n",
       "      <td>0</td>\n",
       "      <td>0</td>\n",
       "      <td>0</td>\n",
       "      <td>0</td>\n",
       "      <td>1</td>\n",
       "      <td>0</td>\n",
       "      <td>0</td>\n",
       "    </tr>\n",
       "    <tr>\n",
       "      <th>11</th>\n",
       "      <td>1</td>\n",
       "      <td>12500.00</td>\n",
       "      <td>29</td>\n",
       "      <td>0</td>\n",
       "      <td>0</td>\n",
       "      <td>0</td>\n",
       "      <td>0</td>\n",
       "      <td>0</td>\n",
       "      <td>0</td>\n",
       "      <td>0</td>\n",
       "      <td>0</td>\n",
       "      <td>0</td>\n",
       "      <td>0</td>\n",
       "      <td>1</td>\n",
       "      <td>0</td>\n",
       "      <td>0</td>\n",
       "      <td>0</td>\n",
       "      <td>0</td>\n",
       "    </tr>\n",
       "    <tr>\n",
       "      <th>12</th>\n",
       "      <td>0</td>\n",
       "      <td>5000.00</td>\n",
       "      <td>29</td>\n",
       "      <td>0</td>\n",
       "      <td>0</td>\n",
       "      <td>1</td>\n",
       "      <td>0</td>\n",
       "      <td>0</td>\n",
       "      <td>0</td>\n",
       "      <td>0</td>\n",
       "      <td>0</td>\n",
       "      <td>0</td>\n",
       "      <td>0</td>\n",
       "      <td>0</td>\n",
       "      <td>0</td>\n",
       "      <td>0</td>\n",
       "      <td>0</td>\n",
       "      <td>0</td>\n",
       "    </tr>\n",
       "  </tbody>\n",
       "</table>\n",
       "</div>"
      ],
      "text/plain": [
       "    state  usd_goal_real  period  main_category_Art  main_category_Comics  \\\n",
       "0       0        1533.95      58                  0                     0   \n",
       "1       0       30000.00      59                  0                     0   \n",
       "2       0       45000.00      44                  0                     0   \n",
       "3       0        5000.00      29                  0                     0   \n",
       "5       1       50000.00      34                  0                     0   \n",
       "6       1        1000.00      19                  0                     0   \n",
       "7       0       25000.00      44                  0                     0   \n",
       "10      0        2406.39      29                  0                     0   \n",
       "11      1       12500.00      29                  0                     0   \n",
       "12      0        5000.00      29                  0                     0   \n",
       "\n",
       "    main_category_Crafts  main_category_Dance  main_category_Design  \\\n",
       "0                      0                    0                     0   \n",
       "1                      0                    0                     0   \n",
       "2                      0                    0                     0   \n",
       "3                      0                    0                     0   \n",
       "5                      0                    0                     0   \n",
       "6                      0                    0                     0   \n",
       "7                      0                    0                     0   \n",
       "10                     0                    0                     0   \n",
       "11                     0                    0                     0   \n",
       "12                     1                    0                     0   \n",
       "\n",
       "    main_category_Fashion  main_category_Film & Video  main_category_Food  \\\n",
       "0                       0                           0                   0   \n",
       "1                       0                           1                   0   \n",
       "2                       0                           1                   0   \n",
       "3                       0                           0                   0   \n",
       "5                       0                           0                   1   \n",
       "6                       0                           0                   1   \n",
       "7                       0                           0                   1   \n",
       "10                      0                           0                   0   \n",
       "11                      0                           0                   0   \n",
       "12                      0                           0                   0   \n",
       "\n",
       "    main_category_Games  main_category_Journalism  main_category_Music  \\\n",
       "0                     0                         0                    0   \n",
       "1                     0                         0                    0   \n",
       "2                     0                         0                    0   \n",
       "3                     0                         0                    1   \n",
       "5                     0                         0                    0   \n",
       "6                     0                         0                    0   \n",
       "7                     0                         0                    0   \n",
       "10                    0                         0                    0   \n",
       "11                    0                         0                    1   \n",
       "12                    0                         0                    0   \n",
       "\n",
       "    main_category_Photography  main_category_Publishing  \\\n",
       "0                           0                         1   \n",
       "1                           0                         0   \n",
       "2                           0                         0   \n",
       "3                           0                         0   \n",
       "5                           0                         0   \n",
       "6                           0                         0   \n",
       "7                           0                         0   \n",
       "10                          0                         1   \n",
       "11                          0                         0   \n",
       "12                          0                         0   \n",
       "\n",
       "    main_category_Technology  main_category_Theater  \n",
       "0                          0                      0  \n",
       "1                          0                      0  \n",
       "2                          0                      0  \n",
       "3                          0                      0  \n",
       "5                          0                      0  \n",
       "6                          0                      0  \n",
       "7                          0                      0  \n",
       "10                         0                      0  \n",
       "11                         0                      0  \n",
       "12                         0                      0  "
      ]
     },
     "execution_count": 22,
     "metadata": {},
     "output_type": "execute_result"
    }
   ],
   "source": [
    "df.head(10)"
   ]
  },
  {
   "cell_type": "markdown",
   "metadata": {},
   "source": [
    "### 外れ値の確認"
   ]
  },
  {
   "cell_type": "code",
   "execution_count": 23,
   "metadata": {},
   "outputs": [
    {
     "data": {
      "image/png": "[encoded data removed]",
      "text/plain": [
       "<Figure size 432x288 with 1 Axes>"
      ]
     },
     "metadata": {
      "needs_background": "light"
     },
     "output_type": "display_data"
    }
   ],
   "source": [
    "# 箱ひげ図による量的変数\"usd_goal_real\"の可視化\n",
    "sns.boxplot(df[\"usd_goal_real\"])\n",
    "plt.show()"
   ]
  },
  {
   "cell_type": "code",
   "execution_count": 24,
   "metadata": {},
   "outputs": [
    {
     "data": {
      "image/png": "[encoded data removed]",
      "text/plain": [
       "<Figure size 432x288 with 1 Axes>"
      ]
     },
     "metadata": {
      "needs_background": "light"
     },
     "output_type": "display_data"
    }
   ],
   "source": [
    "# 箱ひげ図による量的変数\"period\"の可視化\n",
    "sns.boxplot(df[\"period\"])\n",
    "plt.show()"
   ]
  },
  {
   "cell_type": "markdown",
   "metadata": {},
   "source": [
    "### ・データ分割"
   ]
  },
  {
   "cell_type": "code",
   "execution_count": 25,
   "metadata": {},
   "outputs": [],
   "source": [
    "y = df['state'].values #'state' の値をyに代入する\n",
    "X = df.drop('state', axis=1).values #'state'以外の変数をXに代入する\n",
    "test_size = 0.3 #テストデータの割合を決める\n",
    "\n",
    "#訓練データとテストデータに分割し、それぞれ変数に代入する\n",
    "from sklearn.model_selection import train_test_split, GridSearchCV\n",
    "X_train, X_test, y_train, y_test = train_test_split(X, y, test_size=test_size, random_state=1234)"
   ]
  },
  {
   "cell_type": "markdown",
   "metadata": {},
   "source": [
    "### ・説明変数の標準化"
   ]
  },
  {
   "cell_type": "code",
   "execution_count": 26,
   "metadata": {},
   "outputs": [],
   "source": [
    "stdsc = StandardScaler()\n",
    "X_train = stdsc.fit_transform(X_train)\n",
    "X_test = stdsc.fit_transform(X_test)"
   ]
  },
  {
   "cell_type": "markdown",
   "metadata": {},
   "source": [
    "### ・主成分分析の実行"
   ]
  },
  {
   "cell_type": "markdown",
   "metadata": {},
   "source": [
    "説明変数が17個あるので、17次元で寄与率を見てみる。\n",
    "<br>\n",
    "X_trainに対して、主成分分析を実行。"
   ]
  },
  {
   "cell_type": "code",
   "execution_count": 27,
   "metadata": {},
   "outputs": [
    {
     "data": {
      "text/plain": [
       "PCA(copy=True, iterated_power='auto', n_components=17, random_state=None,\n",
       "  svd_solver='auto', tol=0.0, whiten=False)"
      ]
     },
     "execution_count": 27,
     "metadata": {},
     "output_type": "execute_result"
    }
   ],
   "source": [
    "pca1 = PCA(n_components=17) #主成分分析用のオブジェクトをつくる。削減後の次元数を引数で指定する。\n",
    "pca1.fit(X_train) #主成分分析の実行"
   ]
  },
  {
   "cell_type": "markdown",
   "metadata": {},
   "source": [
    "### ・固有ベクトル"
   ]
  },
  {
   "cell_type": "code",
   "execution_count": 28,
   "metadata": {},
   "outputs": [
    {
     "data": {
      "text/plain": [
       "array([[ 1.16262160e-01,  2.64582057e-01, -1.78390618e-01,\n",
       "        -3.94537892e-02, -8.15795057e-02, -3.65699274e-02,\n",
       "        -7.90193568e-02, -1.24672936e-01,  8.61137577e-01,\n",
       "        -8.09180369e-02, -2.16272685e-01, -1.83706414e-02,\n",
       "        -1.13916443e-01, -4.67856653e-02, -2.00020508e-01,\n",
       "        -5.10347619e-03, -5.38752454e-02],\n",
       "       [ 8.12045126e-04,  3.39087978e-01, -1.92643835e-01,\n",
       "        -1.78951645e-02, -8.57938457e-02, -3.11256050e-02,\n",
       "        -2.82682262e-02, -1.19805582e-01, -1.68573232e-01,\n",
       "        -4.60604316e-02, -2.45758639e-01, -6.14269133e-03,\n",
       "         8.38170726e-01, -2.73690841e-02, -1.52220749e-01,\n",
       "         7.18081288e-02, -3.90462180e-02],\n",
       "       [ 2.33099613e-02,  1.88487331e-01, -2.36090604e-01,\n",
       "        -5.83774262e-03, -6.78566688e-02, -2.15637061e-02,\n",
       "         5.33678794e-03, -1.11221429e-01, -6.74953867e-02,\n",
       "        -2.45982332e-02, -3.97254266e-01,  9.96985155e-04,\n",
       "        -1.55374278e-01, -1.51980767e-02,  8.16121697e-01,\n",
       "         1.91477390e-01, -2.50020212e-02],\n",
       "       [ 1.95932783e-01,  1.80915436e-01, -4.29392069e-02,\n",
       "         4.01514522e-02, -3.75040696e-02, -3.21089981e-03,\n",
       "         2.63525947e-01, -9.75229354e-03, -1.96617743e-01,\n",
       "         1.33937216e-01, -1.08833828e-01,  3.06195337e-02,\n",
       "        -2.71679736e-01,  2.42422342e-02, -3.60377821e-01,\n",
       "         7.61827672e-01,  2.08548278e-02],\n",
       "       [ 5.56670692e-02,  3.54481465e-02, -5.68485590e-01,\n",
       "        -2.27690503e-02, -3.67349847e-02, -1.59899615e-02,\n",
       "        -2.85954373e-01, -1.14817225e-01,  8.31249180e-03,\n",
       "        -1.07029708e-01,  7.08262305e-01, -8.15884570e-03,\n",
       "         2.45771383e-02, -2.68284887e-02,  1.01571373e-01,\n",
       "         2.22920201e-01, -2.88408639e-02],\n",
       "       [ 5.75104197e-02, -4.65165527e-02,  4.65050569e-01,\n",
       "        -1.49429623e-02,  9.82474411e-03, -1.28125489e-03,\n",
       "        -8.01245375e-01,  4.73673809e-03,  2.06903953e-02,\n",
       "        -6.92580775e-02, -7.96625938e-02, -6.05570701e-03,\n",
       "         5.36469982e-02, -1.35175343e-02,  3.96202524e-02,\n",
       "         3.45856470e-01, -7.99512647e-03],\n",
       "       [ 4.26294467e-02,  3.85095549e-03,  3.21208510e-01,\n",
       "        -3.98434797e-02, -3.49291717e-02, -1.80825311e-02,\n",
       "         3.08124595e-01, -2.52917507e-01,  2.62093745e-02,\n",
       "        -8.24985646e-01,  1.52705126e-01, -1.59688737e-02,\n",
       "         4.61187211e-02, -4.12931265e-02,  7.91615643e-02,\n",
       "         1.27332119e-01, -4.21455276e-02],\n",
       "       [ 4.05891374e-02,  7.22627330e-02,  2.67691002e-01,\n",
       "        -2.44237412e-02, -7.12248261e-02, -2.37829648e-02,\n",
       "         6.49229446e-02, -8.33339769e-01, -8.19280944e-03,\n",
       "         4.18976849e-01,  1.71979631e-01, -5.91502354e-03,\n",
       "        -9.24074511e-03, -3.39177285e-02,  4.88778970e-02,\n",
       "        -7.68533314e-02, -4.26013279e-02],\n",
       "       [ 1.36715875e-01,  6.08927151e-02,  1.84460596e-01,\n",
       "        -4.10697887e-01, -3.51127988e-01, -1.06617626e-01,\n",
       "         1.21672404e-01,  2.91668381e-01,  2.68950447e-02,\n",
       "         1.69349857e-01,  1.58637502e-01, -6.91549224e-02,\n",
       "         5.34296044e-02, -4.33322458e-01,  1.03984242e-01,\n",
       "         2.54303083e-02, -5.28144018e-01],\n",
       "       [ 5.45626461e-03,  9.56863382e-02,  4.59160096e-02,\n",
       "         7.59956052e-01, -3.04353530e-01, -2.63002885e-02,\n",
       "        -3.38011780e-02,  4.72139773e-02, -3.17637070e-02,\n",
       "        -2.41130739e-02,  4.40607357e-02,  3.61648872e-02,\n",
       "        -4.51829335e-02,  2.00404670e-01, -7.63482471e-03,\n",
       "        -7.56047776e-02, -5.11527999e-01],\n",
       "       [ 6.31521362e-02,  5.54404318e-02,  3.78021985e-02,\n",
       "         3.91659659e-01, -2.94379912e-01, -3.58540313e-02,\n",
       "        -8.65367109e-03,  4.77439882e-02, -1.86180420e-02,\n",
       "        -4.89991108e-04,  3.51904624e-02,  1.47947907e-02,\n",
       "        -1.54495884e-02, -6.83712893e-01,  8.71913430e-03,\n",
       "        -5.32382474e-02,  5.24781843e-01],\n",
       "       [-3.03943315e-02, -1.27666727e-01, -7.91396802e-02,\n",
       "         2.25804720e-01,  7.20027794e-01,  6.46559401e-02,\n",
       "         2.30378961e-02, -8.86643724e-02,  3.42023208e-02,\n",
       "         6.34466338e-03, -7.47076140e-02, -3.15634588e-02,\n",
       "         4.60582208e-02, -4.97630530e-01, -6.52812542e-03,\n",
       "         8.57219702e-02, -3.59969569e-01],\n",
       "       [ 7.78238883e-02,  3.41583351e-02, -1.78881632e-02,\n",
       "        -8.36037090e-02, -2.69768865e-03,  1.17620392e-01,\n",
       "        -4.03872526e-02, -2.14485915e-02, -3.42402148e-02,\n",
       "        -4.05122932e-02, -1.55753908e-02,  9.75601684e-01,\n",
       "        -2.95268844e-02, -6.64156193e-02, -2.07842541e-02,\n",
       "        -7.03345017e-02, -6.33829754e-02],\n",
       "       [ 1.13279824e-01,  4.23917506e-02,  3.56793654e-02,\n",
       "         4.13534486e-02,  1.83679608e-01, -9.59934929e-01,\n",
       "         8.38292568e-03,  4.41715812e-02, -1.03960591e-02,\n",
       "         1.48890523e-02,  3.38192412e-02,  1.18467885e-01,\n",
       "         2.83857249e-03,  6.68267642e-02,  2.11124842e-02,\n",
       "        -3.46899437e-02,  5.93437630e-02],\n",
       "       [ 9.28930006e-01,  5.73097404e-02,  1.70064285e-02,\n",
       "         3.38051880e-02,  1.51833191e-01,  1.53506513e-01,\n",
       "        -2.15294606e-02,  5.03149972e-02, -8.92312696e-02,\n",
       "        -1.35791709e-02,  1.53102382e-02, -9.86844331e-02,\n",
       "         2.68578895e-02,  9.68432169e-02,  4.95780251e-02,\n",
       "        -2.22997249e-01,  4.85242331e-02],\n",
       "       [ 1.79570545e-01, -8.36430646e-01, -1.86856681e-01,\n",
       "         3.47381718e-02, -2.62596565e-01, -8.88299602e-02,\n",
       "         5.94163862e-02, -1.45325559e-01,  1.28766026e-01,\n",
       "         1.76114560e-02, -1.98643142e-01,  4.19380290e-02,\n",
       "         1.98900198e-01,  1.74477673e-03, -4.40515961e-04,\n",
       "         1.76264463e-01, -4.21432719e-02],\n",
       "       [ 1.03263857e-16, -6.62185778e-17, -2.80316940e-01,\n",
       "        -1.78636404e-01, -1.59552086e-01, -1.08531308e-01,\n",
       "        -2.79848318e-01, -2.50014698e-01, -3.95585193e-01,\n",
       "        -2.62169228e-01, -2.95447042e-01, -1.16862588e-01,\n",
       "        -3.63907503e-01, -1.76626692e-01, -3.25616617e-01,\n",
       "        -2.87836618e-01, -1.81066778e-01]])"
      ]
     },
     "execution_count": 28,
     "metadata": {},
     "output_type": "execute_result"
    }
   ],
   "source": [
    "pca1.components_"
   ]
  },
  {
   "cell_type": "markdown",
   "metadata": {},
   "source": [
    "ノルムの大きさ、2軸の内積を計算"
   ]
  },
  {
   "cell_type": "code",
   "execution_count": 29,
   "metadata": {},
   "outputs": [
    {
     "name": "stdout",
     "output_type": "stream",
     "text": [
      "0.9999999999999998\n",
      "1.000000000000001\n",
      "1.0000000000000009\n",
      "1.0000000000000009\n",
      "0.9999999999999994\n",
      "0.9999999999999993\n",
      "0.9999999999999998\n",
      "0.9999999999999999\n",
      "0.9999999999999999\n",
      "0.9999999999999998\n",
      "0.9999999999999999\n",
      "1.0\n",
      "1.0000000000000002\n",
      "1.0\n",
      "0.9999999999999993\n",
      "1.0\n",
      "0.9999999999999997\n",
      "-0.0\n",
      "0.0\n",
      "0.0\n",
      "0.0\n",
      "0.0\n",
      "0.0\n",
      "0.0\n",
      "0.0\n",
      "-0.0\n",
      "-0.0\n",
      "-0.0\n",
      "0.0\n",
      "0.0\n",
      "0.0\n",
      "0.0\n",
      "0.0\n",
      "-0.0\n",
      "-0.0\n",
      "0.0\n",
      "0.0\n",
      "0.0\n",
      "-0.0\n",
      "-0.0\n",
      "-0.0\n",
      "0.0\n",
      "-0.0\n",
      "0.0\n",
      "0.0\n",
      "0.0\n",
      "-0.0\n",
      "0.0\n",
      "-0.0\n",
      "0.0\n",
      "-0.0\n",
      "0.0\n",
      "0.0\n",
      "0.0\n",
      "0.0\n",
      "0.0\n",
      "0.0\n",
      "0.0\n",
      "0.0\n",
      "-0.0\n",
      "-0.0\n",
      "-0.0\n",
      "0.0\n",
      "-0.0\n",
      "-0.0\n",
      "0.0\n",
      "0.0\n",
      "0.0\n",
      "-0.0\n",
      "-0.0\n",
      "-0.0\n",
      "-0.0\n",
      "-0.0\n",
      "0.0\n",
      "-0.0\n",
      "0.0\n",
      "-0.0\n",
      "0.0\n",
      "0.0\n",
      "-0.0\n",
      "0.0\n",
      "0.0\n",
      "0.0\n",
      "0.0\n",
      "-0.0\n",
      "0.0\n",
      "-0.0\n",
      "0.0\n",
      "-0.0\n",
      "0.0\n",
      "-0.0\n",
      "-0.0\n",
      "0.0\n",
      "0.0\n",
      "0.0\n",
      "0.0\n",
      "-0.0\n",
      "0.0\n",
      "0.0\n",
      "0.0\n",
      "-0.0\n",
      "0.0\n",
      "-0.0\n",
      "0.0\n",
      "0.0\n",
      "-0.0\n",
      "0.0\n",
      "0.0\n",
      "0.0\n",
      "0.0\n",
      "0.0\n",
      "0.0\n",
      "-0.0\n",
      "0.0\n",
      "-0.0\n",
      "0.0\n",
      "-0.0\n",
      "-0.0\n",
      "-0.0\n",
      "-0.0\n",
      "0.0\n",
      "0.0\n",
      "0.0\n",
      "0.0\n",
      "0.0\n",
      "-0.0\n",
      "0.0\n",
      "-0.0\n",
      "0.0\n",
      "0.0\n",
      "-0.0\n",
      "0.0\n",
      "-0.0\n",
      "0.0\n",
      "0.0\n",
      "-0.0\n",
      "0.0\n",
      "0.0\n",
      "-0.0\n",
      "-0.0\n",
      "-0.0\n",
      "0.0\n",
      "-0.0\n",
      "0.0\n",
      "-0.0\n",
      "0.0\n",
      "-0.0\n",
      "0.0\n",
      "-0.0\n",
      "-0.0\n",
      "0.0\n",
      "0.0\n",
      "0.0\n",
      "0.0\n",
      "0.0\n",
      "0.0\n",
      "0.0\n",
      "0.0\n",
      "-0.0\n",
      "-0.0\n",
      "-0.0\n",
      "-0.0\n",
      "0.0\n",
      "0.0\n",
      "0.0\n",
      "0.0\n",
      "-0.0\n",
      "0.0\n",
      "0.0\n",
      "0.0\n",
      "-0.0\n",
      "-0.0\n",
      "-0.0\n",
      "0.0\n",
      "-0.0\n",
      "0.0\n",
      "-0.0\n",
      "-0.0\n",
      "-0.0\n",
      "0.0\n",
      "-0.0\n",
      "-0.0\n",
      "0.0\n",
      "0.0\n",
      "-0.0\n",
      "0.0\n",
      "-0.0\n",
      "0.0\n",
      "0.0\n",
      "0.0\n",
      "-0.0\n",
      "0.0\n",
      "0.0\n",
      "-0.0\n",
      "0.0\n",
      "-0.0\n",
      "0.0\n",
      "-0.0\n",
      "0.0\n",
      "0.0\n",
      "-0.0\n",
      "0.0\n",
      "-0.0\n",
      "0.0\n",
      "0.0\n",
      "-0.0\n",
      "-0.0\n",
      "0.0\n",
      "-0.0\n",
      "0.0\n",
      "0.0\n",
      "-0.0\n",
      "-0.0\n",
      "0.0\n",
      "0.0\n",
      "0.0\n",
      "-0.0\n",
      "0.0\n",
      "-0.0\n",
      "0.0\n",
      "0.0\n",
      "-0.0\n",
      "-0.0\n",
      "0.0\n",
      "-0.0\n",
      "0.0\n",
      "0.0\n",
      "-0.0\n",
      "0.0\n",
      "0.0\n",
      "0.0\n",
      "-0.0\n",
      "0.0\n",
      "0.0\n",
      "0.0\n",
      "0.0\n",
      "-0.0\n",
      "-0.0\n",
      "-0.0\n",
      "0.0\n",
      "0.0\n",
      "0.0\n",
      "-0.0\n",
      "0.0\n",
      "0.0\n",
      "0.0\n",
      "0.0\n",
      "0.0\n",
      "-0.0\n",
      "-0.0\n",
      "-0.0\n",
      "-0.0\n",
      "-0.0\n",
      "-0.0\n",
      "-0.0\n",
      "-0.0\n",
      "0.0\n",
      "0.0\n",
      "0.0\n",
      "-0.0\n",
      "-0.0\n",
      "0.0\n",
      "0.0\n",
      "-0.0\n",
      "0.0\n",
      "-0.0\n",
      "0.0\n",
      "0.0\n",
      "0.0\n",
      "0.0\n",
      "0.0\n",
      "-0.0\n",
      "-0.0\n",
      "0.0\n",
      "-0.0\n",
      "-0.0\n",
      "0.0\n",
      "-0.0\n",
      "-0.0\n",
      "0.0\n",
      "-0.0\n",
      "-0.0\n",
      "-0.0\n",
      "0.0\n",
      "-0.0\n",
      "-0.0\n",
      "0.0\n",
      "0.0\n",
      "-0.0\n"
     ]
    }
   ],
   "source": [
    "for i in range(len(pca1.components_)):\n",
    "    print(np.linalg.norm(pca1.components_[i]))\n",
    "for i in range(len(pca1.components_)):\n",
    "    for r in range(len(pca1.components_)):\n",
    "        if i==r:\n",
    "            continue\n",
    "        print(np.dot(pca1.components_[i], pca1.components_[r]).round(5))"
   ]
  },
  {
   "cell_type": "markdown",
   "metadata": {},
   "source": [
    "### ・各成分の寄与率"
   ]
  },
  {
   "cell_type": "code",
   "execution_count": 30,
   "metadata": {
    "scrolled": true
   },
   "outputs": [
    {
     "data": {
      "text/html": [
       "<div>\n",
       "<style scoped>\n",
       "    .dataframe tbody tr th:only-of-type {\n",
       "        vertical-align: middle;\n",
       "    }\n",
       "\n",
       "    .dataframe tbody tr th {\n",
       "        vertical-align: top;\n",
       "    }\n",
       "\n",
       "    .dataframe thead th {\n",
       "        text-align: right;\n",
       "    }\n",
       "</style>\n",
       "<table border=\"1\" class=\"dataframe\">\n",
       "  <thead>\n",
       "    <tr style=\"text-align: right;\">\n",
       "      <th></th>\n",
       "      <th>pc1</th>\n",
       "      <th>pc2</th>\n",
       "      <th>pc3</th>\n",
       "      <th>pc4</th>\n",
       "      <th>pc5</th>\n",
       "      <th>pc6</th>\n",
       "      <th>pc7</th>\n",
       "      <th>pc8</th>\n",
       "      <th>pc9</th>\n",
       "      <th>pc10</th>\n",
       "      <th>pc11</th>\n",
       "      <th>pc12</th>\n",
       "      <th>pc13</th>\n",
       "      <th>pc14</th>\n",
       "      <th>pc15</th>\n",
       "      <th>pc16</th>\n",
       "      <th>pc17</th>\n",
       "    </tr>\n",
       "  </thead>\n",
       "  <tbody>\n",
       "    <tr>\n",
       "      <th>0</th>\n",
       "      <td>193.486079</td>\n",
       "      <td>20.760519</td>\n",
       "      <td>47.504702</td>\n",
       "      <td>310.683810</td>\n",
       "      <td>87.548065</td>\n",
       "      <td>85.559769</td>\n",
       "      <td>65.693957</td>\n",
       "      <td>66.501824</td>\n",
       "      <td>213.351078</td>\n",
       "      <td>13.911810</td>\n",
       "      <td>100.096483</td>\n",
       "      <td>-54.034583</td>\n",
       "      <td>121.338353</td>\n",
       "      <td>176.245420</td>\n",
       "      <td>1428.305726</td>\n",
       "      <td>226.938819</td>\n",
       "      <td>-0.325617</td>\n",
       "    </tr>\n",
       "    <tr>\n",
       "      <th>1</th>\n",
       "      <td>3504.336267</td>\n",
       "      <td>44.198971</td>\n",
       "      <td>710.352096</td>\n",
       "      <td>5888.460893</td>\n",
       "      <td>1672.111828</td>\n",
       "      <td>1722.588805</td>\n",
       "      <td>1279.136818</td>\n",
       "      <td>1221.929431</td>\n",
       "      <td>4105.095812</td>\n",
       "      <td>169.301669</td>\n",
       "      <td>1897.816453</td>\n",
       "      <td>-919.328081</td>\n",
       "      <td>2336.697752</td>\n",
       "      <td>3400.885435</td>\n",
       "      <td>27871.192232</td>\n",
       "      <td>5337.895703</td>\n",
       "      <td>-0.395585</td>\n",
       "    </tr>\n",
       "    <tr>\n",
       "      <th>2</th>\n",
       "      <td>5244.299930</td>\n",
       "      <td>51.293328</td>\n",
       "      <td>1057.174206</td>\n",
       "      <td>8824.738911</td>\n",
       "      <td>2506.586143</td>\n",
       "      <td>2585.942849</td>\n",
       "      <td>1918.520755</td>\n",
       "      <td>1829.682551</td>\n",
       "      <td>6154.920544</td>\n",
       "      <td>249.710343</td>\n",
       "      <td>2844.266889</td>\n",
       "      <td>-1373.328053</td>\n",
       "      <td>3503.543702</td>\n",
       "      <td>5099.446918</td>\n",
       "      <td>41804.282679</td>\n",
       "      <td>8044.000335</td>\n",
       "      <td>-0.395585</td>\n",
       "    </tr>\n",
       "    <tr>\n",
       "      <th>3</th>\n",
       "      <td>588.869761</td>\n",
       "      <td>14.731948</td>\n",
       "      <td>121.860565</td>\n",
       "      <td>984.638784</td>\n",
       "      <td>279.387919</td>\n",
       "      <td>286.256766</td>\n",
       "      <td>213.305030</td>\n",
       "      <td>205.032066</td>\n",
       "      <td>685.398693</td>\n",
       "      <td>30.011044</td>\n",
       "      <td>317.353004</td>\n",
       "      <td>-155.627935</td>\n",
       "      <td>390.080507</td>\n",
       "      <td>567.631319</td>\n",
       "      <td>4646.338872</td>\n",
       "      <td>873.795136</td>\n",
       "      <td>-0.363908</td>\n",
       "    </tr>\n",
       "    <tr>\n",
       "      <th>4</th>\n",
       "      <td>5822.022851</td>\n",
       "      <td>52.085187</td>\n",
       "      <td>1171.882036</td>\n",
       "      <td>9802.924228</td>\n",
       "      <td>2784.451665</td>\n",
       "      <td>2873.870165</td>\n",
       "      <td>2130.778284</td>\n",
       "      <td>2032.332780</td>\n",
       "      <td>6838.033446</td>\n",
       "      <td>276.042453</td>\n",
       "      <td>3159.491294</td>\n",
       "      <td>-1524.050901</td>\n",
       "      <td>3892.315288</td>\n",
       "      <td>5665.447405</td>\n",
       "      <td>46448.435266</td>\n",
       "      <td>8950.106211</td>\n",
       "      <td>-0.262169</td>\n",
       "    </tr>\n",
       "    <tr>\n",
       "      <th>5</th>\n",
       "      <td>121.208301</td>\n",
       "      <td>7.208656</td>\n",
       "      <td>26.866622</td>\n",
       "      <td>199.504114</td>\n",
       "      <td>56.233554</td>\n",
       "      <td>56.557347</td>\n",
       "      <td>41.877629</td>\n",
       "      <td>42.381106</td>\n",
       "      <td>138.042186</td>\n",
       "      <td>7.250192</td>\n",
       "      <td>64.205014</td>\n",
       "      <td>-32.813655</td>\n",
       "      <td>78.432384</td>\n",
       "      <td>114.100156</td>\n",
       "      <td>930.005312</td>\n",
       "      <td>163.695974</td>\n",
       "      <td>-0.262169</td>\n",
       "    </tr>\n",
       "    <tr>\n",
       "      <th>6</th>\n",
       "      <td>2918.114682</td>\n",
       "      <td>35.174939</td>\n",
       "      <td>591.017877</td>\n",
       "      <td>4906.413799</td>\n",
       "      <td>1393.129418</td>\n",
       "      <td>1435.644506</td>\n",
       "      <td>1065.080625</td>\n",
       "      <td>1018.326972</td>\n",
       "      <td>3420.745501</td>\n",
       "      <td>140.592701</td>\n",
       "      <td>1581.242294</td>\n",
       "      <td>-765.469280</td>\n",
       "      <td>1947.059663</td>\n",
       "      <td>2833.875724</td>\n",
       "      <td>23225.758206</td>\n",
       "      <td>4452.478284</td>\n",
       "      <td>-0.262169</td>\n",
       "    </tr>\n",
       "    <tr>\n",
       "      <th>7</th>\n",
       "      <td>287.244957</td>\n",
       "      <td>11.635428</td>\n",
       "      <td>62.375112</td>\n",
       "      <td>476.376860</td>\n",
       "      <td>135.086246</td>\n",
       "      <td>137.083139</td>\n",
       "      <td>102.773914</td>\n",
       "      <td>99.817792</td>\n",
       "      <td>330.861587</td>\n",
       "      <td>15.897170</td>\n",
       "      <td>153.585161</td>\n",
       "      <td>-76.849479</td>\n",
       "      <td>188.244434</td>\n",
       "      <td>273.845909</td>\n",
       "      <td>2237.079438</td>\n",
       "      <td>407.859834</td>\n",
       "      <td>-0.325617</td>\n",
       "    </tr>\n",
       "    <tr>\n",
       "      <th>8</th>\n",
       "      <td>1460.835958</td>\n",
       "      <td>20.822286</td>\n",
       "      <td>296.685275</td>\n",
       "      <td>2454.134659</td>\n",
       "      <td>696.890938</td>\n",
       "      <td>717.584913</td>\n",
       "      <td>533.025881</td>\n",
       "      <td>509.450596</td>\n",
       "      <td>1710.767754</td>\n",
       "      <td>70.933028</td>\n",
       "      <td>790.994025</td>\n",
       "      <td>-383.585421</td>\n",
       "      <td>973.759669</td>\n",
       "      <td>1417.229998</td>\n",
       "      <td>11613.313919</td>\n",
       "      <td>2220.574222</td>\n",
       "      <td>-0.363908</td>\n",
       "    </tr>\n",
       "    <tr>\n",
       "      <th>9</th>\n",
       "      <td>588.902098</td>\n",
       "      <td>13.807983</td>\n",
       "      <td>121.948082</td>\n",
       "      <td>984.872960</td>\n",
       "      <td>279.326607</td>\n",
       "      <td>286.212943</td>\n",
       "      <td>213.223982</td>\n",
       "      <td>204.970081</td>\n",
       "      <td>684.994135</td>\n",
       "      <td>29.751873</td>\n",
       "      <td>317.074074</td>\n",
       "      <td>-154.953965</td>\n",
       "      <td>390.107336</td>\n",
       "      <td>567.812160</td>\n",
       "      <td>4646.463847</td>\n",
       "      <td>873.333639</td>\n",
       "      <td>-0.159552</td>\n",
       "    </tr>\n",
       "  </tbody>\n",
       "</table>\n",
       "</div>"
      ],
      "text/plain": [
       "           pc1        pc2          pc3          pc4          pc5          pc6  \\\n",
       "0   193.486079  20.760519    47.504702   310.683810    87.548065    85.559769   \n",
       "1  3504.336267  44.198971   710.352096  5888.460893  1672.111828  1722.588805   \n",
       "2  5244.299930  51.293328  1057.174206  8824.738911  2506.586143  2585.942849   \n",
       "3   588.869761  14.731948   121.860565   984.638784   279.387919   286.256766   \n",
       "4  5822.022851  52.085187  1171.882036  9802.924228  2784.451665  2873.870165   \n",
       "5   121.208301   7.208656    26.866622   199.504114    56.233554    56.557347   \n",
       "6  2918.114682  35.174939   591.017877  4906.413799  1393.129418  1435.644506   \n",
       "7   287.244957  11.635428    62.375112   476.376860   135.086246   137.083139   \n",
       "8  1460.835958  20.822286   296.685275  2454.134659   696.890938   717.584913   \n",
       "9   588.902098  13.807983   121.948082   984.872960   279.326607   286.212943   \n",
       "\n",
       "           pc7          pc8          pc9        pc10         pc11  \\\n",
       "0    65.693957    66.501824   213.351078   13.911810   100.096483   \n",
       "1  1279.136818  1221.929431  4105.095812  169.301669  1897.816453   \n",
       "2  1918.520755  1829.682551  6154.920544  249.710343  2844.266889   \n",
       "3   213.305030   205.032066   685.398693   30.011044   317.353004   \n",
       "4  2130.778284  2032.332780  6838.033446  276.042453  3159.491294   \n",
       "5    41.877629    42.381106   138.042186    7.250192    64.205014   \n",
       "6  1065.080625  1018.326972  3420.745501  140.592701  1581.242294   \n",
       "7   102.773914    99.817792   330.861587   15.897170   153.585161   \n",
       "8   533.025881   509.450596  1710.767754   70.933028   790.994025   \n",
       "9   213.223982   204.970081   684.994135   29.751873   317.074074   \n",
       "\n",
       "          pc12         pc13         pc14          pc15         pc16      pc17  \n",
       "0   -54.034583   121.338353   176.245420   1428.305726   226.938819 -0.325617  \n",
       "1  -919.328081  2336.697752  3400.885435  27871.192232  5337.895703 -0.395585  \n",
       "2 -1373.328053  3503.543702  5099.446918  41804.282679  8044.000335 -0.395585  \n",
       "3  -155.627935   390.080507   567.631319   4646.338872   873.795136 -0.363908  \n",
       "4 -1524.050901  3892.315288  5665.447405  46448.435266  8950.106211 -0.262169  \n",
       "5   -32.813655    78.432384   114.100156    930.005312   163.695974 -0.262169  \n",
       "6  -765.469280  1947.059663  2833.875724  23225.758206  4452.478284 -0.262169  \n",
       "7   -76.849479   188.244434   273.845909   2237.079438   407.859834 -0.325617  \n",
       "8  -383.585421   973.759669  1417.229998  11613.313919  2220.574222 -0.363908  \n",
       "9  -154.953965   390.107336   567.812160   4646.463847   873.333639 -0.159552  "
      ]
     },
     "execution_count": 30,
     "metadata": {},
     "output_type": "execute_result"
    }
   ],
   "source": [
    "#新しい軸に投影\n",
    "df2 = pd.DataFrame(pca1.transform(X))\n",
    "df2.columns = [\"pc1\",\"pc2\",\"pc3\",\"pc4\",\"pc5\",\"pc6\",\"pc7\",\"pc8\",\"pc9\",\"pc10\",\"pc11\",\"pc12\",\"pc13\",\"pc14\",\"pc15\",\"pc16\",\"pc17\"]\n",
    "df2.head(10)"
   ]
  },
  {
   "cell_type": "code",
   "execution_count": 31,
   "metadata": {},
   "outputs": [
    {
     "name": "stdout",
     "output_type": "stream",
     "text": [
      "寄与率= [7.05416563e-02 6.89300392e-02 6.56960571e-02 6.52333080e-02\n",
      " 6.40705803e-02 6.37979095e-02 6.31917465e-02 6.28138391e-02\n",
      " 6.11563604e-02 6.06823642e-02 6.06168085e-02 6.05458237e-02\n",
      " 5.96394070e-02 5.95291103e-02 5.83541787e-02 5.52008111e-02\n",
      " 2.53861436e-30]\n",
      "合計＝ 1.0\n"
     ]
    }
   ],
   "source": [
    "print(\"寄与率=\",pca1.explained_variance_ratio_)\n",
    "print(\"合計＝\", pca1.explained_variance_ratio_.sum())"
   ]
  },
  {
   "cell_type": "markdown",
   "metadata": {},
   "source": [
    "第一主成分、第二主成分だと、約14％しか説明できないことが分かる。"
   ]
  },
  {
   "cell_type": "markdown",
   "metadata": {},
   "source": [
    "### ・累積寄与率"
   ]
  },
  {
   "cell_type": "code",
   "execution_count": 32,
   "metadata": {},
   "outputs": [
    {
     "data": {
      "text/plain": [
       "array([0.07054166, 0.1394717 , 0.20516775, 0.27040106, 0.33447164,\n",
       "       0.39826955, 0.4614613 , 0.52427514, 0.5854315 , 0.64611386,\n",
       "       0.70673067, 0.76727649, 0.8269159 , 0.88644501, 0.94479919,\n",
       "       1.        , 1.        ])"
      ]
     },
     "execution_count": 32,
     "metadata": {},
     "output_type": "execute_result"
    }
   ],
   "source": [
    "import numpy as np\n",
    "np.cumsum(pca1.explained_variance_ratio_)"
   ]
  },
  {
   "cell_type": "code",
   "execution_count": 33,
   "metadata": {},
   "outputs": [
    {
     "data": {
      "text/plain": [
       "Text(0, 0.5, 'cumulative explained variance')"
      ]
     },
     "execution_count": 33,
     "metadata": {},
     "output_type": "execute_result"
    },
    {
     "data": {
      "image/png": "[encoded data removed]",
      "text/plain": [
       "<Figure size 432x288 with 1 Axes>"
      ]
     },
     "metadata": {
      "needs_background": "light"
     },
     "output_type": "display_data"
    }
   ],
   "source": [
    "#図示する\n",
    "import matplotlib.pyplot as plt\n",
    "%matplotlib inline\n",
    " \n",
    "n_components = 17\n",
    "plt.plot(range(1, n_components+1), np.cumsum(pca1.explained_variance_ratio_))\n",
    "plt.xticks(range(1, n_components+1))\n",
    "plt.xlabel('components')\n",
    "plt.xlabel('components')\n",
    "plt.ylabel('cumulative explained variance')"
   ]
  },
  {
   "cell_type": "markdown",
   "metadata": {},
   "source": [
    "一般的に累積寄与率が80％以上となるまでの主成分を分析に用いる。(参照 : https://www.intage.co.jp/glossary/401/)\n",
    "<br>\n",
    "<big>したがって、累積寄与率が約83％となる13次元まで次元を圧縮する。<big>"
   ]
  },
  {
   "cell_type": "markdown",
   "metadata": {},
   "source": [
    "### ・X_train、X_testに対して次元圧縮を行い、新たなデータを作成"
   ]
  },
  {
   "cell_type": "code",
   "execution_count": 34,
   "metadata": {},
   "outputs": [
    {
     "data": {
      "text/plain": [
       "PCA(copy=True, iterated_power='auto', n_components=13, random_state=None,\n",
       "  svd_solver='auto', tol=0.0, whiten=False)"
      ]
     },
     "execution_count": 34,
     "metadata": {},
     "output_type": "execute_result"
    }
   ],
   "source": [
    "pca2 = PCA(n_components=13) #主成分分析用のオブジェクトをつくる。削減後の次元数を引数で指定する。\n",
    "pca2.fit(X_train) #主成分分析の実行"
   ]
  },
  {
   "cell_type": "code",
   "execution_count": 35,
   "metadata": {},
   "outputs": [],
   "source": [
    "X_train_pca = pca2.transform(X_train)\n",
    "X_test_pca = pca2.transform(X_test)"
   ]
  },
  {
   "cell_type": "markdown",
   "metadata": {},
   "source": [
    "## (3-1) モデル構築 (ニューラルネットワーク)"
   ]
  },
  {
   "cell_type": "markdown",
   "metadata": {},
   "source": [
    "　ニューラルネットワークのモデル構築を行う。このモデルを「モデル1」とし、次元圧縮を行っていないデータ(前処理済み)を用いたときのモデルの性能評価を行う。"
   ]
  },
  {
   "cell_type": "code",
   "execution_count": 36,
   "metadata": {},
   "outputs": [],
   "source": [
    "import numpy as np\n",
    "import pandas as pd\n",
    "import matplotlib.pyplot as plt\n",
    "%matplotlib inline\n",
    "from sklearn.model_selection import train_test_split, GridSearchCV\n",
    "from IPython.display import display\n",
    "import seaborn as sns\n",
    "from sklearn.metrics import accuracy_score,f1_score,recall_score,precision_score,classification_report\n",
    "from sklearn.metrics import confusion_matrix\n",
    "from tensorflow import keras  \n",
    "import tensorflow as tf"
   ]
  },
  {
   "cell_type": "markdown",
   "metadata": {},
   "source": [
    "### ・次元圧縮を行っていない元々のデータを分割したものを表示"
   ]
  },
  {
   "cell_type": "code",
   "execution_count": 94,
   "metadata": {},
   "outputs": [
    {
     "name": "stdout",
     "output_type": "stream",
     "text": [
      "X_train= [[-0.03822099 -0.31041774 -0.28853166 ... -0.34656165 -0.29774983\n",
      "  -0.17746844]\n",
      " [-0.02924929 -0.31041774 -0.28853166 ... -0.34656165 -0.29774983\n",
      "  -0.17746844]\n",
      " [-0.01928074  0.31944358 -0.28853166 ... -0.34656165  3.3585242\n",
      "  -0.17746844]\n",
      " ...\n",
      " [-0.03223986  1.97282955 -0.28853166 ... -0.34656165 -0.29774983\n",
      "  -0.17746844]\n",
      " [-0.03054447 -0.31041774 -0.28853166 ... -0.34656165 -0.29774983\n",
      "  -0.17746844]\n",
      " [-0.03373514 -0.6253484  -0.28853166 ... -0.34656165 -0.29774983\n",
      "  -0.17746844]]\n",
      "\n",
      "X_test= [[-0.03481591  0.55068918 -0.2916051  ... -0.34438635 -0.298548\n",
      "  -0.18089898]\n",
      " [-0.03330446 -0.7050542  -0.2916051  ... -0.34438635 -0.298548\n",
      "  -0.18089898]\n",
      " [-0.03496706  2.04188445 -0.2916051  ... -0.34438635 -0.298548\n",
      "  -0.18089898]\n",
      " ...\n",
      " [-0.03368232 -0.15566647 -0.2916051  ... -0.34438635 -0.298548\n",
      "  -0.18089898]\n",
      " [-0.03141515 -0.31263439 -0.2916051  ... -0.34438635 -0.298548\n",
      "  -0.18089898]\n",
      " [-0.03141515  2.04188445 -0.2916051  ... -0.34438635 -0.298548\n",
      "  -0.18089898]]\n",
      "\n",
      "y_train= [[[[[[[0. 1.]\n",
      "      [1. 0.]]\n",
      "\n",
      "     [[1. 0.]\n",
      "      [0. 1.]]]\n",
      "\n",
      "\n",
      "    [[[1. 0.]\n",
      "      [0. 1.]]\n",
      "\n",
      "     [[0. 1.]\n",
      "      [1. 0.]]]]\n",
      "\n",
      "\n",
      "\n",
      "   [[[[1. 0.]\n",
      "      [0. 1.]]\n",
      "\n",
      "     [[0. 1.]\n",
      "      [1. 0.]]]\n",
      "\n",
      "\n",
      "    [[[0. 1.]\n",
      "      [1. 0.]]\n",
      "\n",
      "     [[1. 0.]\n",
      "      [0. 1.]]]]]\n",
      "\n",
      "\n",
      "\n",
      "\n",
      "  [[[[[1. 0.]\n",
      "      [0. 1.]]\n",
      "\n",
      "     [[0. 1.]\n",
      "      [1. 0.]]]\n",
      "\n",
      "\n",
      "    [[[0. 1.]\n",
      "      [1. 0.]]\n",
      "\n",
      "     [[1. 0.]\n",
      "      [0. 1.]]]]\n",
      "\n",
      "\n",
      "\n",
      "   [[[[0. 1.]\n",
      "      [1. 0.]]\n",
      "\n",
      "     [[1. 0.]\n",
      "      [0. 1.]]]\n",
      "\n",
      "\n",
      "    [[[1. 0.]\n",
      "      [0. 1.]]\n",
      "\n",
      "     [[0. 1.]\n",
      "      [1. 0.]]]]]]\n",
      "\n",
      "\n",
      "\n",
      "\n",
      "\n",
      " [[[[[[0. 1.]\n",
      "      [1. 0.]]\n",
      "\n",
      "     [[1. 0.]\n",
      "      [0. 1.]]]\n",
      "\n",
      "\n",
      "    [[[1. 0.]\n",
      "      [0. 1.]]\n",
      "\n",
      "     [[0. 1.]\n",
      "      [1. 0.]]]]\n",
      "\n",
      "\n",
      "\n",
      "   [[[[1. 0.]\n",
      "      [0. 1.]]\n",
      "\n",
      "     [[0. 1.]\n",
      "      [1. 0.]]]\n",
      "\n",
      "\n",
      "    [[[0. 1.]\n",
      "      [1. 0.]]\n",
      "\n",
      "     [[1. 0.]\n",
      "      [0. 1.]]]]]\n",
      "\n",
      "\n",
      "\n",
      "\n",
      "  [[[[[1. 0.]\n",
      "      [0. 1.]]\n",
      "\n",
      "     [[0. 1.]\n",
      "      [1. 0.]]]\n",
      "\n",
      "\n",
      "    [[[0. 1.]\n",
      "      [1. 0.]]\n",
      "\n",
      "     [[1. 0.]\n",
      "      [0. 1.]]]]\n",
      "\n",
      "\n",
      "\n",
      "   [[[[0. 1.]\n",
      "      [1. 0.]]\n",
      "\n",
      "     [[1. 0.]\n",
      "      [0. 1.]]]\n",
      "\n",
      "\n",
      "    [[[1. 0.]\n",
      "      [0. 1.]]\n",
      "\n",
      "     [[0. 1.]\n",
      "      [1. 0.]]]]]]\n",
      "\n",
      "\n",
      "\n",
      "\n",
      "\n",
      " [[[[[[1. 0.]\n",
      "      [0. 1.]]\n",
      "\n",
      "     [[0. 1.]\n",
      "      [1. 0.]]]\n",
      "\n",
      "\n",
      "    [[[0. 1.]\n",
      "      [1. 0.]]\n",
      "\n",
      "     [[1. 0.]\n",
      "      [0. 1.]]]]\n",
      "\n",
      "\n",
      "\n",
      "   [[[[0. 1.]\n",
      "      [1. 0.]]\n",
      "\n",
      "     [[1. 0.]\n",
      "      [0. 1.]]]\n",
      "\n",
      "\n",
      "    [[[1. 0.]\n",
      "      [0. 1.]]\n",
      "\n",
      "     [[0. 1.]\n",
      "      [1. 0.]]]]]\n",
      "\n",
      "\n",
      "\n",
      "\n",
      "  [[[[[0. 1.]\n",
      "      [1. 0.]]\n",
      "\n",
      "     [[1. 0.]\n",
      "      [0. 1.]]]\n",
      "\n",
      "\n",
      "    [[[1. 0.]\n",
      "      [0. 1.]]\n",
      "\n",
      "     [[0. 1.]\n",
      "      [1. 0.]]]]\n",
      "\n",
      "\n",
      "\n",
      "   [[[[1. 0.]\n",
      "      [0. 1.]]\n",
      "\n",
      "     [[0. 1.]\n",
      "      [1. 0.]]]\n",
      "\n",
      "\n",
      "    [[[0. 1.]\n",
      "      [1. 0.]]\n",
      "\n",
      "     [[1. 0.]\n",
      "      [0. 1.]]]]]]\n",
      "\n",
      "\n",
      "\n",
      "\n",
      "\n",
      " ...\n",
      "\n",
      "\n",
      "\n",
      "\n",
      "\n",
      " [[[[[[1. 0.]\n",
      "      [0. 1.]]\n",
      "\n",
      "     [[0. 1.]\n",
      "      [1. 0.]]]\n",
      "\n",
      "\n",
      "    [[[0. 1.]\n",
      "      [1. 0.]]\n",
      "\n",
      "     [[1. 0.]\n",
      "      [0. 1.]]]]\n",
      "\n",
      "\n",
      "\n",
      "   [[[[0. 1.]\n",
      "      [1. 0.]]\n",
      "\n",
      "     [[1. 0.]\n",
      "      [0. 1.]]]\n",
      "\n",
      "\n",
      "    [[[1. 0.]\n",
      "      [0. 1.]]\n",
      "\n",
      "     [[0. 1.]\n",
      "      [1. 0.]]]]]\n",
      "\n",
      "\n",
      "\n",
      "\n",
      "  [[[[[0. 1.]\n",
      "      [1. 0.]]\n",
      "\n",
      "     [[1. 0.]\n",
      "      [0. 1.]]]\n",
      "\n",
      "\n",
      "    [[[1. 0.]\n",
      "      [0. 1.]]\n",
      "\n",
      "     [[0. 1.]\n",
      "      [1. 0.]]]]\n",
      "\n",
      "\n",
      "\n",
      "   [[[[1. 0.]\n",
      "      [0. 1.]]\n",
      "\n",
      "     [[0. 1.]\n",
      "      [1. 0.]]]\n",
      "\n",
      "\n",
      "    [[[0. 1.]\n",
      "      [1. 0.]]\n",
      "\n",
      "     [[1. 0.]\n",
      "      [0. 1.]]]]]]\n",
      "\n",
      "\n",
      "\n",
      "\n",
      "\n",
      " [[[[[[0. 1.]\n",
      "      [1. 0.]]\n",
      "\n",
      "     [[1. 0.]\n",
      "      [0. 1.]]]\n",
      "\n",
      "\n",
      "    [[[1. 0.]\n",
      "      [0. 1.]]\n",
      "\n",
      "     [[0. 1.]\n",
      "      [1. 0.]]]]\n",
      "\n",
      "\n",
      "\n",
      "   [[[[1. 0.]\n",
      "      [0. 1.]]\n",
      "\n",
      "     [[0. 1.]\n",
      "      [1. 0.]]]\n",
      "\n",
      "\n",
      "    [[[0. 1.]\n",
      "      [1. 0.]]\n",
      "\n",
      "     [[1. 0.]\n",
      "      [0. 1.]]]]]\n",
      "\n",
      "\n",
      "\n",
      "\n",
      "  [[[[[1. 0.]\n",
      "      [0. 1.]]\n",
      "\n",
      "     [[0. 1.]\n",
      "      [1. 0.]]]\n",
      "\n",
      "\n",
      "    [[[0. 1.]\n",
      "      [1. 0.]]\n",
      "\n",
      "     [[1. 0.]\n",
      "      [0. 1.]]]]\n",
      "\n",
      "\n",
      "\n",
      "   [[[[0. 1.]\n",
      "      [1. 0.]]\n",
      "\n",
      "     [[1. 0.]\n",
      "      [0. 1.]]]\n",
      "\n",
      "\n",
      "    [[[1. 0.]\n",
      "      [0. 1.]]\n",
      "\n",
      "     [[0. 1.]\n",
      "      [1. 0.]]]]]]\n",
      "\n",
      "\n",
      "\n",
      "\n",
      "\n",
      " [[[[[[0. 1.]\n",
      "      [1. 0.]]\n",
      "\n",
      "     [[1. 0.]\n",
      "      [0. 1.]]]\n",
      "\n",
      "\n",
      "    [[[1. 0.]\n",
      "      [0. 1.]]\n",
      "\n",
      "     [[0. 1.]\n",
      "      [1. 0.]]]]\n",
      "\n",
      "\n",
      "\n",
      "   [[[[1. 0.]\n",
      "      [0. 1.]]\n",
      "\n",
      "     [[0. 1.]\n",
      "      [1. 0.]]]\n",
      "\n",
      "\n",
      "    [[[0. 1.]\n",
      "      [1. 0.]]\n",
      "\n",
      "     [[1. 0.]\n",
      "      [0. 1.]]]]]\n",
      "\n",
      "\n",
      "\n",
      "\n",
      "  [[[[[1. 0.]\n",
      "      [0. 1.]]\n",
      "\n",
      "     [[0. 1.]\n",
      "      [1. 0.]]]\n",
      "\n",
      "\n",
      "    [[[0. 1.]\n",
      "      [1. 0.]]\n",
      "\n",
      "     [[1. 0.]\n",
      "      [0. 1.]]]]\n",
      "\n",
      "\n",
      "\n",
      "   [[[[0. 1.]\n",
      "      [1. 0.]]\n",
      "\n",
      "     [[1. 0.]\n",
      "      [0. 1.]]]\n",
      "\n",
      "\n",
      "    [[[1. 0.]\n",
      "      [0. 1.]]\n",
      "\n",
      "     [[0. 1.]\n",
      "      [1. 0.]]]]]]]\n",
      "\n",
      "y_test= [[[[[[[0. 1.]\n",
      "      [1. 0.]]\n",
      "\n",
      "     [[1. 0.]\n",
      "      [0. 1.]]]\n",
      "\n",
      "\n",
      "    [[[1. 0.]\n",
      "      [0. 1.]]\n",
      "\n",
      "     [[0. 1.]\n",
      "      [1. 0.]]]]\n",
      "\n",
      "\n",
      "\n",
      "   [[[[1. 0.]\n",
      "      [0. 1.]]\n",
      "\n",
      "     [[0. 1.]\n",
      "      [1. 0.]]]\n",
      "\n",
      "\n",
      "    [[[0. 1.]\n",
      "      [1. 0.]]\n",
      "\n",
      "     [[1. 0.]\n",
      "      [0. 1.]]]]]\n",
      "\n",
      "\n",
      "\n",
      "\n",
      "  [[[[[1. 0.]\n",
      "      [0. 1.]]\n",
      "\n",
      "     [[0. 1.]\n",
      "      [1. 0.]]]\n",
      "\n",
      "\n",
      "    [[[0. 1.]\n",
      "      [1. 0.]]\n",
      "\n",
      "     [[1. 0.]\n",
      "      [0. 1.]]]]\n",
      "\n",
      "\n",
      "\n",
      "   [[[[0. 1.]\n",
      "      [1. 0.]]\n",
      "\n",
      "     [[1. 0.]\n",
      "      [0. 1.]]]\n",
      "\n",
      "\n",
      "    [[[1. 0.]\n",
      "      [0. 1.]]\n",
      "\n",
      "     [[0. 1.]\n",
      "      [1. 0.]]]]]]\n",
      "\n",
      "\n",
      "\n",
      "\n",
      "\n",
      " [[[[[[1. 0.]\n",
      "      [0. 1.]]\n",
      "\n",
      "     [[0. 1.]\n",
      "      [1. 0.]]]\n",
      "\n",
      "\n",
      "    [[[0. 1.]\n",
      "      [1. 0.]]\n",
      "\n",
      "     [[1. 0.]\n",
      "      [0. 1.]]]]\n",
      "\n",
      "\n",
      "\n",
      "   [[[[0. 1.]\n",
      "      [1. 0.]]\n",
      "\n",
      "     [[1. 0.]\n",
      "      [0. 1.]]]\n",
      "\n",
      "\n",
      "    [[[1. 0.]\n",
      "      [0. 1.]]\n",
      "\n",
      "     [[0. 1.]\n",
      "      [1. 0.]]]]]\n",
      "\n",
      "\n",
      "\n",
      "\n",
      "  [[[[[0. 1.]\n",
      "      [1. 0.]]\n",
      "\n",
      "     [[1. 0.]\n",
      "      [0. 1.]]]\n",
      "\n",
      "\n",
      "    [[[1. 0.]\n",
      "      [0. 1.]]\n",
      "\n",
      "     [[0. 1.]\n",
      "      [1. 0.]]]]\n",
      "\n",
      "\n",
      "\n",
      "   [[[[1. 0.]\n",
      "      [0. 1.]]\n",
      "\n",
      "     [[0. 1.]\n",
      "      [1. 0.]]]\n",
      "\n",
      "\n",
      "    [[[0. 1.]\n",
      "      [1. 0.]]\n",
      "\n",
      "     [[1. 0.]\n",
      "      [0. 1.]]]]]]\n",
      "\n",
      "\n",
      "\n",
      "\n",
      "\n",
      " [[[[[[0. 1.]\n",
      "      [1. 0.]]\n",
      "\n",
      "     [[1. 0.]\n",
      "      [0. 1.]]]\n",
      "\n",
      "\n",
      "    [[[1. 0.]\n",
      "      [0. 1.]]\n",
      "\n",
      "     [[0. 1.]\n",
      "      [1. 0.]]]]\n",
      "\n",
      "\n",
      "\n",
      "   [[[[1. 0.]\n",
      "      [0. 1.]]\n",
      "\n",
      "     [[0. 1.]\n",
      "      [1. 0.]]]\n",
      "\n",
      "\n",
      "    [[[0. 1.]\n",
      "      [1. 0.]]\n",
      "\n",
      "     [[1. 0.]\n",
      "      [0. 1.]]]]]\n",
      "\n",
      "\n",
      "\n",
      "\n",
      "  [[[[[1. 0.]\n",
      "      [0. 1.]]\n",
      "\n",
      "     [[0. 1.]\n",
      "      [1. 0.]]]\n",
      "\n",
      "\n",
      "    [[[0. 1.]\n",
      "      [1. 0.]]\n",
      "\n",
      "     [[1. 0.]\n",
      "      [0. 1.]]]]\n",
      "\n",
      "\n",
      "\n",
      "   [[[[0. 1.]\n",
      "      [1. 0.]]\n",
      "\n",
      "     [[1. 0.]\n",
      "      [0. 1.]]]\n",
      "\n",
      "\n",
      "    [[[1. 0.]\n",
      "      [0. 1.]]\n",
      "\n",
      "     [[0. 1.]\n",
      "      [1. 0.]]]]]]\n",
      "\n",
      "\n",
      "\n",
      "\n",
      "\n",
      " ...\n",
      "\n",
      "\n",
      "\n",
      "\n",
      "\n",
      " [[[[[[0. 1.]\n",
      "      [1. 0.]]\n",
      "\n",
      "     [[1. 0.]\n",
      "      [0. 1.]]]\n",
      "\n",
      "\n",
      "    [[[1. 0.]\n",
      "      [0. 1.]]\n",
      "\n",
      "     [[0. 1.]\n",
      "      [1. 0.]]]]\n",
      "\n",
      "\n",
      "\n",
      "   [[[[1. 0.]\n",
      "      [0. 1.]]\n",
      "\n",
      "     [[0. 1.]\n",
      "      [1. 0.]]]\n",
      "\n",
      "\n",
      "    [[[0. 1.]\n",
      "      [1. 0.]]\n",
      "\n",
      "     [[1. 0.]\n",
      "      [0. 1.]]]]]\n",
      "\n",
      "\n",
      "\n",
      "\n",
      "  [[[[[1. 0.]\n",
      "      [0. 1.]]\n",
      "\n",
      "     [[0. 1.]\n",
      "      [1. 0.]]]\n",
      "\n",
      "\n",
      "    [[[0. 1.]\n",
      "      [1. 0.]]\n",
      "\n",
      "     [[1. 0.]\n",
      "      [0. 1.]]]]\n",
      "\n",
      "\n",
      "\n",
      "   [[[[0. 1.]\n",
      "      [1. 0.]]\n",
      "\n",
      "     [[1. 0.]\n",
      "      [0. 1.]]]\n",
      "\n",
      "\n",
      "    [[[1. 0.]\n",
      "      [0. 1.]]\n",
      "\n",
      "     [[0. 1.]\n",
      "      [1. 0.]]]]]]\n",
      "\n",
      "\n",
      "\n",
      "\n",
      "\n",
      " [[[[[[0. 1.]\n",
      "      [1. 0.]]\n",
      "\n",
      "     [[1. 0.]\n",
      "      [0. 1.]]]\n",
      "\n",
      "\n",
      "    [[[1. 0.]\n",
      "      [0. 1.]]\n",
      "\n",
      "     [[0. 1.]\n",
      "      [1. 0.]]]]\n",
      "\n",
      "\n",
      "\n",
      "   [[[[1. 0.]\n",
      "      [0. 1.]]\n",
      "\n",
      "     [[0. 1.]\n",
      "      [1. 0.]]]\n",
      "\n",
      "\n",
      "    [[[0. 1.]\n",
      "      [1. 0.]]\n",
      "\n",
      "     [[1. 0.]\n",
      "      [0. 1.]]]]]\n",
      "\n",
      "\n",
      "\n",
      "\n",
      "  [[[[[1. 0.]\n",
      "      [0. 1.]]\n",
      "\n",
      "     [[0. 1.]\n",
      "      [1. 0.]]]\n",
      "\n",
      "\n",
      "    [[[0. 1.]\n",
      "      [1. 0.]]\n",
      "\n",
      "     [[1. 0.]\n",
      "      [0. 1.]]]]\n",
      "\n",
      "\n",
      "\n",
      "   [[[[0. 1.]\n",
      "      [1. 0.]]\n",
      "\n",
      "     [[1. 0.]\n",
      "      [0. 1.]]]\n",
      "\n",
      "\n",
      "    [[[1. 0.]\n",
      "      [0. 1.]]\n",
      "\n",
      "     [[0. 1.]\n",
      "      [1. 0.]]]]]]\n",
      "\n",
      "\n",
      "\n",
      "\n",
      "\n",
      " [[[[[[1. 0.]\n",
      "      [0. 1.]]\n",
      "\n",
      "     [[0. 1.]\n",
      "      [1. 0.]]]\n",
      "\n",
      "\n",
      "    [[[0. 1.]\n",
      "      [1. 0.]]\n",
      "\n",
      "     [[1. 0.]\n",
      "      [0. 1.]]]]\n",
      "\n",
      "\n",
      "\n",
      "   [[[[0. 1.]\n",
      "      [1. 0.]]\n",
      "\n",
      "     [[1. 0.]\n",
      "      [0. 1.]]]\n",
      "\n",
      "\n",
      "    [[[1. 0.]\n",
      "      [0. 1.]]\n",
      "\n",
      "     [[0. 1.]\n",
      "      [1. 0.]]]]]\n",
      "\n",
      "\n",
      "\n",
      "\n",
      "  [[[[[0. 1.]\n",
      "      [1. 0.]]\n",
      "\n",
      "     [[1. 0.]\n",
      "      [0. 1.]]]\n",
      "\n",
      "\n",
      "    [[[1. 0.]\n",
      "      [0. 1.]]\n",
      "\n",
      "     [[0. 1.]\n",
      "      [1. 0.]]]]\n",
      "\n",
      "\n",
      "\n",
      "   [[[[1. 0.]\n",
      "      [0. 1.]]\n",
      "\n",
      "     [[0. 1.]\n",
      "      [1. 0.]]]\n",
      "\n",
      "\n",
      "    [[[0. 1.]\n",
      "      [1. 0.]]\n",
      "\n",
      "     [[1. 0.]\n",
      "      [0. 1.]]]]]]]\n"
     ]
    }
   ],
   "source": [
    "# one-hotベクトルに変換\n",
    "from tensorflow.keras.utils import to_categorical\n",
    "y_train = to_categorical(y_train)\n",
    "y_test = to_categorical(y_test)\n",
    "\n",
    "print(\"X_train=\",X_train)\n",
    "print()\n",
    "print(\"X_test=\",X_test)\n",
    "print()\n",
    "print(\"y_train=\",y_train)\n",
    "print()\n",
    "print(\"y_test=\",y_test)"
   ]
  },
  {
   "cell_type": "markdown",
   "metadata": {},
   "source": [
    "### ・Tensorflowでニューラルネットワークを構築"
   ]
  },
  {
   "cell_type": "markdown",
   "metadata": {},
   "source": [
    "モデル1を構築する。説明変数は17個あるので、入力層の次元は17。"
   ]
  },
  {
   "cell_type": "code",
   "execution_count": 38,
   "metadata": {},
   "outputs": [
    {
     "name": "stdout",
     "output_type": "stream",
     "text": [
      "WARNING:tensorflow:From C:\\Users\\yoshi\\Anaconda3\\lib\\site-packages\\tensorflow\\python\\ops\\init_ops.py:1251: calling VarianceScaling.__init__ (from tensorflow.python.ops.init_ops) with dtype is deprecated and will be removed in a future version.\n",
      "Instructions for updating:\n",
      "Call initializer instance with the dtype argument instead of passing it to the constructor\n"
     ]
    }
   ],
   "source": [
    "from tensorflow.compat.v1.keras import Sequential\n",
    "from tensorflow.compat.v1.keras.layers import Dense, Dropout, Activation\n",
    "from tensorflow.compat.v1.keras.optimizers import SGD,RMSprop, Adagrad, Adadelta, Adam\n",
    "\n",
    "model1 = Sequential()\n",
    "model1.add(Dense(20, activation='relu', input_dim=17))\n",
    "model1.add(Dense(10, activation='relu', input_dim=20))\n",
    "model1.add(Dense(2, activation='softmax'))#最終層のactivationは変更しないこと\n",
    "\n",
    "# ------ 最適化手法 ------\n",
    "sgd = SGD(lr=0.01, momentum=0.9, nesterov=False)\n",
    "# rms = RMSprop(lr=0.01)\n",
    "# adag = Adagrad(lr=0.01)\n",
    "# adad = Adadelta(lr=0.01)\n",
    "# adam = Adam(lr=0.01)\n",
    "# -----------------------------\n",
    "\n",
    "model1.compile(loss='categorical_crossentropy',\n",
    "              optimizer=sgd,\n",
    "              metrics=['accuracy'])"
   ]
  },
  {
   "cell_type": "markdown",
   "metadata": {},
   "source": [
    "### ・次元圧縮していないデータを用いたときのモデルの性能評価"
   ]
  },
  {
   "cell_type": "code",
   "execution_count": 39,
   "metadata": {},
   "outputs": [
    {
     "name": "stdout",
     "output_type": "stream",
     "text": [
      "Train on 232172 samples, validate on 99503 samples\n",
      "Epoch 1/50\n",
      "232172/232172 [==============================] - 13s 56us/sample - loss: 0.6444 - acc: 0.6306 - val_loss: 0.6372 - val_acc: 0.6380\n",
      "Epoch 2/50\n",
      "232172/232172 [==============================] - 10s 41us/sample - loss: 0.6398 - acc: 0.6341 - val_loss: 0.6358 - val_acc: 0.6406\n",
      "Epoch 3/50\n",
      "232172/232172 [==============================] - 11s 47us/sample - loss: 0.6375 - acc: 0.6353 - val_loss: 0.6332 - val_acc: 0.6406\n",
      "Epoch 4/50\n",
      "232172/232172 [==============================] - 11s 49us/sample - loss: 0.6360 - acc: 0.6367 - val_loss: 0.6334 - val_acc: 0.6425\n",
      "Epoch 5/50\n",
      "232172/232172 [==============================] - 12s 53us/sample - loss: 0.6346 - acc: 0.6368 - val_loss: 0.6326 - val_acc: 0.6425\n",
      "Epoch 6/50\n",
      "232172/232172 [==============================] - 11s 49us/sample - loss: 0.6335 - acc: 0.6377 - val_loss: 0.6306 - val_acc: 0.6398\n",
      "Epoch 7/50\n",
      "232172/232172 [==============================] - 12s 52us/sample - loss: 0.6330 - acc: 0.6384 - val_loss: 0.6319 - val_acc: 0.6431\n",
      "Epoch 8/50\n",
      "232172/232172 [==============================] - 11s 48us/sample - loss: 0.6324 - acc: 0.6393 - val_loss: 0.6309 - val_acc: 0.6416\n",
      "Epoch 9/50\n",
      "232172/232172 [==============================] - 13s 54us/sample - loss: 0.6319 - acc: 0.6388 - val_loss: 0.6295 - val_acc: 0.6417\n",
      "Epoch 10/50\n",
      "232172/232172 [==============================] - 13s 56us/sample - loss: 0.6311 - acc: 0.6388 - val_loss: 0.6275 - val_acc: 0.6442\n",
      "Epoch 11/50\n",
      "232172/232172 [==============================] - 13s 55us/sample - loss: 0.6306 - acc: 0.6402 - val_loss: 0.6281 - val_acc: 0.6450\n",
      "Epoch 12/50\n",
      "232172/232172 [==============================] - 13s 57us/sample - loss: 0.6300 - acc: 0.6404 - val_loss: 0.6317 - val_acc: 0.6456\n",
      "Epoch 13/50\n",
      "232172/232172 [==============================] - 13s 55us/sample - loss: 0.6415 - acc: 0.6342 - val_loss: 0.6372 - val_acc: 0.6400\n",
      "Epoch 14/50\n",
      "232172/232172 [==============================] - 12s 54us/sample - loss: 0.6358 - acc: 0.6367 - val_loss: 0.6328 - val_acc: 0.6317\n",
      "Epoch 15/50\n",
      "232172/232172 [==============================] - 12s 51us/sample - loss: 0.6336 - acc: 0.6376 - val_loss: 0.6315 - val_acc: 0.6402\n",
      "Epoch 16/50\n",
      "232172/232172 [==============================] - 13s 56us/sample - loss: 0.6320 - acc: 0.6388 - val_loss: 0.6306 - val_acc: 0.6422\n",
      "Epoch 17/50\n",
      "232172/232172 [==============================] - 13s 54us/sample - loss: 0.6313 - acc: 0.6391 - val_loss: 0.6306 - val_acc: 0.6408\n",
      "Epoch 18/50\n",
      "232172/232172 [==============================] - 13s 56us/sample - loss: 0.6311 - acc: 0.6397 - val_loss: 0.6307 - val_acc: 0.6401\n",
      "Epoch 19/50\n",
      "232172/232172 [==============================] - 13s 56us/sample - loss: 0.6306 - acc: 0.6400 - val_loss: 0.6274 - val_acc: 0.6464\n",
      "Epoch 20/50\n",
      "232172/232172 [==============================] - 13s 56us/sample - loss: 0.6302 - acc: 0.6395 - val_loss: 0.6300 - val_acc: 0.6468\n",
      "Epoch 21/50\n",
      "232172/232172 [==============================] - 13s 57us/sample - loss: 0.6294 - acc: 0.6409 - val_loss: 0.6288 - val_acc: 0.6410\n",
      "Epoch 22/50\n",
      "232172/232172 [==============================] - 13s 57us/sample - loss: 0.6293 - acc: 0.6417 - val_loss: 0.6296 - val_acc: 0.6470\n",
      "Epoch 23/50\n",
      "232172/232172 [==============================] - 13s 56us/sample - loss: 0.6291 - acc: 0.6413 - val_loss: 0.6271 - val_acc: 0.6457\n",
      "Epoch 24/50\n",
      "232172/232172 [==============================] - 12s 53us/sample - loss: 0.6288 - acc: 0.6407 - val_loss: 0.6293 - val_acc: 0.6455\n",
      "Epoch 25/50\n",
      "232172/232172 [==============================] - 13s 57us/sample - loss: 0.6285 - acc: 0.6425 - val_loss: 0.6328 - val_acc: 0.6394\n",
      "Epoch 26/50\n",
      "232172/232172 [==============================] - 13s 56us/sample - loss: 0.6282 - acc: 0.6423 - val_loss: 0.6257 - val_acc: 0.6455\n",
      "Epoch 27/50\n",
      "232172/232172 [==============================] - 13s 55us/sample - loss: 0.6280 - acc: 0.6426 - val_loss: 0.6263 - val_acc: 0.6455\n",
      "Epoch 28/50\n",
      "232172/232172 [==============================] - 12s 53us/sample - loss: 0.6280 - acc: 0.6418 - val_loss: 0.6298 - val_acc: 0.6365\n",
      "Epoch 29/50\n",
      "232172/232172 [==============================] - 11s 49us/sample - loss: 0.6279 - acc: 0.6415 - val_loss: 0.6264 - val_acc: 0.6478\n",
      "Epoch 30/50\n",
      "232172/232172 [==============================] - 13s 54us/sample - loss: 0.6278 - acc: 0.6428 - val_loss: 0.6266 - val_acc: 0.6454\n",
      "Epoch 31/50\n",
      "232172/232172 [==============================] - 12s 52us/sample - loss: 0.6277 - acc: 0.6418 - val_loss: 0.6289 - val_acc: 0.6377\n",
      "Epoch 32/50\n",
      "232172/232172 [==============================] - 12s 51us/sample - loss: 0.6276 - acc: 0.6422 - val_loss: 0.6271 - val_acc: 0.6452\n",
      "Epoch 33/50\n",
      "232172/232172 [==============================] - 12s 51us/sample - loss: 0.6275 - acc: 0.6424 - val_loss: 0.6272 - val_acc: 0.6388\n",
      "Epoch 34/50\n",
      "232172/232172 [==============================] - 13s 54us/sample - loss: 0.6271 - acc: 0.6430 - val_loss: 0.6276 - val_acc: 0.6452\n",
      "Epoch 35/50\n",
      "232172/232172 [==============================] - 12s 51us/sample - loss: 0.6270 - acc: 0.6422 - val_loss: 0.6265 - val_acc: 0.6476\n",
      "Epoch 36/50\n",
      "232172/232172 [==============================] - 12s 53us/sample - loss: 0.6271 - acc: 0.6429 - val_loss: 0.6248 - val_acc: 0.6450\n",
      "Epoch 37/50\n",
      "232172/232172 [==============================] - 12s 53us/sample - loss: 0.6265 - acc: 0.6425 - val_loss: 0.6258 - val_acc: 0.6439\n",
      "Epoch 38/50\n",
      "232172/232172 [==============================] - 10s 42us/sample - loss: 0.6266 - acc: 0.6433 - val_loss: 0.6273 - val_acc: 0.6381\n",
      "Epoch 39/50\n",
      "232172/232172 [==============================] - 12s 53us/sample - loss: 0.6266 - acc: 0.6430 - val_loss: 0.6253 - val_acc: 0.6423\n",
      "Epoch 40/50\n",
      "232172/232172 [==============================] - 13s 56us/sample - loss: 0.6265 - acc: 0.6430 - val_loss: 0.6305 - val_acc: 0.6297\n",
      "Epoch 41/50\n",
      "232172/232172 [==============================] - 12s 52us/sample - loss: 0.6261 - acc: 0.6438 - val_loss: 0.6261 - val_acc: 0.6452\n",
      "Epoch 42/50\n",
      "232172/232172 [==============================] - 11s 46us/sample - loss: 0.6259 - acc: 0.6443 - val_loss: 0.6232 - val_acc: 0.6493\n",
      "Epoch 43/50\n",
      "232172/232172 [==============================] - 10s 43us/sample - loss: 0.6260 - acc: 0.6444 - val_loss: 0.6259 - val_acc: 0.6432\n",
      "Epoch 44/50\n",
      "232172/232172 [==============================] - 10s 41us/sample - loss: 0.6256 - acc: 0.6439 - val_loss: 0.6227 - val_acc: 0.6485\n",
      "Epoch 45/50\n",
      "232172/232172 [==============================] - 8s 36us/sample - loss: 0.6258 - acc: 0.6437 - val_loss: 0.6238 - val_acc: 0.6467\n",
      "Epoch 46/50\n",
      "232172/232172 [==============================] - 9s 39us/sample - loss: 0.6257 - acc: 0.6441 - val_loss: 0.6267 - val_acc: 0.6421\n",
      "Epoch 47/50\n",
      "232172/232172 [==============================] - 9s 40us/sample - loss: 0.6259 - acc: 0.6433 - val_loss: 0.6291 - val_acc: 0.6474\n",
      "Epoch 48/50\n",
      "232172/232172 [==============================] - 9s 39us/sample - loss: 0.6262 - acc: 0.6444 - val_loss: 0.6249 - val_acc: 0.6467\n",
      "Epoch 49/50\n",
      "232172/232172 [==============================] - 10s 45us/sample - loss: 0.6260 - acc: 0.6437 - val_loss: 0.6249 - val_acc: 0.6416\n",
      "Epoch 50/50\n",
      "232172/232172 [==============================] - 11s 47us/sample - loss: 0.6260 - acc: 0.6440 - val_loss: 0.6271 - val_acc: 0.6429\n"
     ]
    },
    {
     "data": {
      "image/png": "[encoded data removed]",
      "text/plain": [
       "<Figure size 432x288 with 1 Axes>"
      ]
     },
     "metadata": {
      "needs_background": "light"
     },
     "output_type": "display_data"
    },
    {
     "data": {
      "image/png": "[encoded data removed]",
      "text/plain": [
       "<Figure size 432x288 with 1 Axes>"
      ]
     },
     "metadata": {
      "needs_background": "light"
     },
     "output_type": "display_data"
    }
   ],
   "source": [
    "# 計算の実行\n",
    "fit = model1.fit(X_train, y_train,\n",
    "          epochs=50,\n",
    "          batch_size=20,validation_data=(X_test, y_test))\n",
    "\n",
    "# 各epochにおける損失と精度をdfに入れる\n",
    "df = pd.DataFrame(fit.history)\n",
    "\n",
    "# グラフ化\n",
    "df[[\"loss\", \"val_loss\"]].plot()\n",
    "plt.ylabel(\"loss\")\n",
    "plt.xlabel(\"epoch\")\n",
    "plt.show()\n",
    "\n",
    "df[[\"acc\", \"val_acc\"]].plot()\n",
    "plt.ylabel(\"acc\")\n",
    "plt.xlabel(\"epoch\")\n",
    "plt.ylim([0,1.0])\n",
    "plt.show()"
   ]
  },
  {
   "cell_type": "markdown",
   "metadata": {},
   "source": [
    "val_accuracy：64.6％"
   ]
  },
  {
   "cell_type": "markdown",
   "metadata": {},
   "source": [
    "## (3-2) モデル1に対して交点探索"
   ]
  },
  {
   "cell_type": "markdown",
   "metadata": {},
   "source": [
    "モデル1に対して交点探索を適用し、ハイパーパラメータチューニングを行う。"
   ]
  },
  {
   "cell_type": "code",
   "execution_count": 48,
   "metadata": {},
   "outputs": [],
   "source": [
    "#モデル1を定義\n",
    "def model1(activation=\"relu\" , optimizer=\"sgd\"):\n",
    "    model = Sequential()\n",
    "    model.add(Dense(20, activation=activation, input_dim=17))\n",
    "    model.add(Dense(10, activation=activation, input_dim=20))\n",
    "    model.add(Dense(2, activation='softmax'))\n",
    "    optimizer = tf.keras.optimizers.RMSprop(0.0008)\n",
    "    model.compile(loss='categorical_crossentropy', optimizer=optimizer, metrics=['accuracy'])\n",
    "    return model"
   ]
  },
  {
   "cell_type": "code",
   "execution_count": 49,
   "metadata": {},
   "outputs": [
    {
     "name": "stderr",
     "output_type": "stream",
     "text": [
      "C:\\Users\\yoshi\\Anaconda3\\lib\\site-packages\\sklearn\\model_selection\\_split.py:2053: FutureWarning: You should specify a value for 'cv' instead of relying on the default value. The default value will change from 3 to 5 in version 0.22.\n",
      "  warnings.warn(CV_WARNING, FutureWarning)\n"
     ]
    }
   ],
   "source": [
    "#交点探索対象のハイパーパラメーターを準備\n",
    "activation = [\"relu\",\"sigmoid\"] #sigmoid\n",
    "optimizer = [\"sgd\",\"adam\"] #adam\n",
    "nb_epoch = [30,50] #30,50\n",
    "batch_size = [5,10]  #5,10\n",
    "\n",
    "#交点探索対象のハイパーパラメーターを辞書型にまとめる\n",
    "param_grid = dict(activation=activation, optimizer=optimizer,nb_epoch=nb_epoch, batch_size=batch_size)\n",
    "\n",
    "#モデルを作成\n",
    "from keras.wrappers.scikit_learn import KerasClassifier\n",
    "model = KerasClassifier(build_fn = model1, verbose=0)\n",
    "\n",
    "#交点探索の実行\n",
    "grid = GridSearchCV(estimator=model, param_grid=param_grid)\n",
    "grid_result = grid.fit(X_train, y_train)"
   ]
  },
  {
   "cell_type": "code",
   "execution_count": 50,
   "metadata": {},
   "outputs": [
    {
     "name": "stdout",
     "output_type": "stream",
     "text": [
      "{'activation': 'relu', 'batch_size': 10, 'nb_epoch': 30, 'optimizer': 'adam'}\n",
      "0.6391726836641485\n"
     ]
    }
   ],
   "source": [
    "print (grid_result.best_params_)\n",
    "print (grid_result.best_score_)"
   ]
  },
  {
   "cell_type": "markdown",
   "metadata": {},
   "source": [
    "## (3-3) モデル1に対してランダムサーチ"
   ]
  },
  {
   "cell_type": "markdown",
   "metadata": {},
   "source": [
    "モデル1に対してランダムサーチを適用し、ハイパーパラメータチューニングを行う。"
   ]
  },
  {
   "cell_type": "code",
   "execution_count": 52,
   "metadata": {},
   "outputs": [
    {
     "name": "stderr",
     "output_type": "stream",
     "text": [
      "C:\\Users\\yoshi\\Anaconda3\\lib\\site-packages\\sklearn\\model_selection\\_split.py:2053: FutureWarning: You should specify a value for 'cv' instead of relying on the default value. The default value will change from 3 to 5 in version 0.22.\n",
      "  warnings.warn(CV_WARNING, FutureWarning)\n"
     ]
    }
   ],
   "source": [
    "#ランダムサーチ用パラメーターを準備\n",
    "activation = [\"relu\", \"sigmoid\"]\n",
    "optimizer = [\"sgd\", \"adam\"]\n",
    "nb_epoch = [30, 50]\n",
    "batch_size = [5, 10]\n",
    "\n",
    "#ランダムサーチ対象のハイパーパラメーターを辞書型にまとめる\n",
    "param_dict = dict(activation=activation, \n",
    "                  optimizer=optimizer,\n",
    "                  nb_epoch=nb_epoch, \n",
    "                  batch_size=batch_size)\n",
    "\n",
    "#モデルを作成\n",
    "model = KerasClassifier(build_fn = model1, verbose=0)\n",
    "\n",
    "#ランダムサーチの実行\n",
    "from sklearn.model_selection import RandomizedSearchCV\n",
    "rand = RandomizedSearchCV(estimator=model, param_distributions=param_dict, n_iter=10)\n",
    "rand_result = rand.fit(X_train, y_train)"
   ]
  },
  {
   "cell_type": "code",
   "execution_count": 53,
   "metadata": {},
   "outputs": [
    {
     "name": "stdout",
     "output_type": "stream",
     "text": [
      "{'optimizer': 'sgd', 'nb_epoch': 30, 'batch_size': 5, 'activation': 'relu'}\n",
      "0.6370794078310745\n"
     ]
    }
   ],
   "source": [
    "print (rand_result.best_params_)\n",
    "print (rand_result.best_score_)"
   ]
  },
  {
   "cell_type": "markdown",
   "metadata": {},
   "source": [
    "## (3-4) モデル1に対してベイズ最適化"
   ]
  },
  {
   "cell_type": "markdown",
   "metadata": {},
   "source": [
    "モデル1に対してベイズ最適化を適用し、ハイパーパラメータチューニングを行う。"
   ]
  },
  {
   "cell_type": "code",
   "execution_count": 73,
   "metadata": {},
   "outputs": [],
   "source": [
    "#モデル1を再定義\n",
    "def model1(lr, batch_size):  \n",
    "    model = Sequential()\n",
    "    model.add(Dense(20, activation=\"relu\", input_dim=17))\n",
    "    model.add(Dense(10, activation=\"relu\", input_dim=20))\n",
    "    model.add(Dense(2, activation='softmax'))\n",
    "    optimizer = tf.keras.optimizers.RMSprop(lr)\n",
    "    model.compile(loss='categorical_crossentropy', optimizer=optimizer, metrics=['accuracy'])\n",
    "    \n",
    "    #訓練データでトレーニング\n",
    "    model.fit(X_train, y_train,verbose=0, batch_size=int(batch_size))  \n",
    "    \n",
    "    #テストデータで精度を確認\n",
    "    score = model.evaluate(X_test, y_test)\n",
    "    return score[0]"
   ]
  },
  {
   "cell_type": "code",
   "execution_count": 69,
   "metadata": {},
   "outputs": [],
   "source": [
    "#ベイズ最適化用の関数\n",
    "def bayesOpt():\n",
    "    pbounds = {\n",
    "        'batch_size' : (5,10),\n",
    "        'lr' : (0.001, 1.0)\n",
    "    }\n",
    "    optimizer = BayesianOptimization(f=model1, pbounds=pbounds)\n",
    "    optimizer.maximize(init_points=5, n_iter=10, acq='ucb')\n",
    "    return optimizer"
   ]
  },
  {
   "cell_type": "code",
   "execution_count": 70,
   "metadata": {},
   "outputs": [
    {
     "name": "stdout",
     "output_type": "stream",
     "text": [
      "|   iter    |  target   | batch_... |    lr     |\n",
      "-------------------------------------------------\n",
      "99503/99503 [==============================] - 6s 59us/sample - loss: 1.0662 - acc: 0.59752s - loss: 1 - ETA: 1s - loss: 1.0664 - acc: - ETA: 0s - loss: 1.06\n",
      "| \u001b[0m 1       \u001b[0m | \u001b[0m-1.066   \u001b[0m | \u001b[0m 6.888   \u001b[0m | \u001b[0m 0.9062  \u001b[0m |\n",
      "99503/99503 [==============================] - 6s 63us/sample - loss: 0.6937 - acc: 0.4025\n",
      "| \u001b[95m 2       \u001b[0m | \u001b[95m-0.6937  \u001b[0m | \u001b[95m 8.502   \u001b[0m | \u001b[95m 0.5729  \u001b[0m |\n",
      "99503/99503 [==============================] - 6s 56us/sample - loss: 0.7703 - acc: 0.4025\n",
      "| \u001b[0m 3       \u001b[0m | \u001b[0m-0.7703  \u001b[0m | \u001b[0m 9.481   \u001b[0m | \u001b[0m 0.6174  \u001b[0m |\n",
      "99503/99503 [==============================] - 6s 62us/sample - loss: 1.1812 - acc: 0.4025\n",
      "| \u001b[0m 4       \u001b[0m | \u001b[0m-1.181   \u001b[0m | \u001b[0m 6.699   \u001b[0m | \u001b[0m 0.7923  \u001b[0m |\n",
      "99503/99503 [==============================] - 7s 66us/sample - loss: 1.0428 - acc: 0.5975\n",
      "| \u001b[0m 5       \u001b[0m | \u001b[0m-1.043   \u001b[0m | \u001b[0m 6.075   \u001b[0m | \u001b[0m 0.7161  \u001b[0m |\n",
      "99503/99503 [==============================] - 6s 58us/sample - loss: 0.7122 - acc: 0.6184\n",
      "| \u001b[0m 6       \u001b[0m | \u001b[0m-0.7122  \u001b[0m | \u001b[0m 5.009   \u001b[0m | \u001b[0m 0.009663\u001b[0m |\n",
      "99503/99503 [==============================] - 7s 68us/sample - loss: 0.6841 - acc: 0.5975\n",
      "| \u001b[95m 7       \u001b[0m | \u001b[95m-0.6841  \u001b[0m | \u001b[95m 5.0     \u001b[0m | \u001b[95m 1.0     \u001b[0m |\n",
      "99503/99503 [==============================] - 6s 58us/sample - loss: 0.6352 - acc: 0.6391\n",
      "| \u001b[95m 8       \u001b[0m | \u001b[95m-0.6352  \u001b[0m | \u001b[95m 10.0    \u001b[0m | \u001b[95m 0.001   \u001b[0m |\n",
      "99503/99503 [==============================] - 6s 56us/sample - loss: 0.6368 - acc: 0.6398\n",
      "| \u001b[0m 9       \u001b[0m | \u001b[0m-0.6368  \u001b[0m | \u001b[0m 8.988   \u001b[0m | \u001b[0m 0.001   \u001b[0m |\n",
      "99503/99503 [==============================] - 6s 62us/sample - loss: 0.6792 - acc: 0.59750s - loss: 0.6793 - ac\n",
      "| \u001b[0m 10      \u001b[0m | \u001b[0m-0.6792  \u001b[0m | \u001b[0m 10.0    \u001b[0m | \u001b[0m 1.0     \u001b[0m |\n",
      "99503/99503 [==============================] - 7s 66us/sample - loss: 0.6400 - acc: 0.6412: 0s - loss: 0.6401 - acc: 0.64\n",
      "| \u001b[0m 11      \u001b[0m | \u001b[0m-0.64    \u001b[0m | \u001b[0m 7.953   \u001b[0m | \u001b[0m 0.001   \u001b[0m |\n",
      "99503/99503 [==============================] - 7s 68us/sample - loss: 1.3134 - acc: 0.5975\n",
      "| \u001b[0m 12      \u001b[0m | \u001b[0m-1.313   \u001b[0m | \u001b[0m 8.001   \u001b[0m | \u001b[0m 1.0     \u001b[0m |\n",
      "99503/99503 [==============================] - 8s 76us/sample - loss: 0.6494 - acc: 0.6412\n",
      "| \u001b[0m 13      \u001b[0m | \u001b[0m-0.6494  \u001b[0m | \u001b[0m 5.81    \u001b[0m | \u001b[0m 0.001   \u001b[0m |\n",
      "99503/99503 [==============================] - 6s 65us/sample - loss: 0.6379 - acc: 0.6405\n",
      "| \u001b[0m 14      \u001b[0m | \u001b[0m-0.6379  \u001b[0m | \u001b[0m 7.106   \u001b[0m | \u001b[0m 0.001   \u001b[0m |\n",
      "99503/99503 [==============================] - 7s 69us/sample - loss: 0.6761 - acc: 0.5975\n",
      "| \u001b[0m 15      \u001b[0m | \u001b[0m-0.6761  \u001b[0m | \u001b[0m 9.049   \u001b[0m | \u001b[0m 1.0     \u001b[0m |\n",
      "=================================================\n"
     ]
    }
   ],
   "source": [
    "#ベイズ最適化の実行\n",
    "from bayes_opt import BayesianOptimization\n",
    "result = bayesOpt()"
   ]
  },
  {
   "cell_type": "code",
   "execution_count": 71,
   "metadata": {},
   "outputs": [
    {
     "data": {
      "text/plain": [
       "{'target': -0.6351838404638243, 'params': {'batch_size': 10.0, 'lr': 0.001}}"
      ]
     },
     "execution_count": 71,
     "metadata": {},
     "output_type": "execute_result"
    }
   ],
   "source": [
    "result.max"
   ]
  },
  {
   "cell_type": "code",
   "execution_count": 74,
   "metadata": {},
   "outputs": [
    {
     "name": "stdout",
     "output_type": "stream",
     "text": [
      "99503/99503 [==============================] - 12s 117us/sample - loss: 0.6321 - acc: 0.6436\n",
      "0.6321303615588949\n"
     ]
    }
   ],
   "source": [
    "score=model1(0.001,10)\n",
    "print(score)"
   ]
  },
  {
   "cell_type": "markdown",
   "metadata": {},
   "source": [
    "## (3-5) モデル1に対する交点探索、ランダムサーチ、ベイズ最適化の精度の比較"
   ]
  },
  {
   "cell_type": "markdown",
   "metadata": {},
   "source": [
    "モデル1に対する精度\n",
    "<br>\n",
    "・交点探索　　　　　63.9%\n",
    "<br>\n",
    "・ランダムサーチ　　63.7%\n",
    "<br>\n",
    "・ベイズ最適化　　　64.4%"
   ]
  },
  {
   "cell_type": "markdown",
   "metadata": {},
   "source": [
    "## (4-1) (2)で次元圧縮したデータに対して性能評価"
   ]
  },
  {
   "cell_type": "markdown",
   "metadata": {},
   "source": [
    "　PCAで次元圧縮を行ったデータに対するニューラルネットワークを構築する。このモデルを「model2」とし、次元圧縮を行ったデータを用いたときのモデルの性能評価を行う。"
   ]
  },
  {
   "cell_type": "markdown",
   "metadata": {},
   "source": [
    "### ・次元圧縮したデータを分割したものを表示"
   ]
  },
  {
   "cell_type": "code",
   "execution_count": 37,
   "metadata": {},
   "outputs": [
    {
     "name": "stdout",
     "output_type": "stream",
     "text": [
      "X_train_pca= [[-0.89363024 -0.9956726  -1.47727683 ...  0.10634229 -0.22729331\n",
      "  -0.05993036]\n",
      " [-0.4516469   2.30371409 -0.51134919 ... -0.06312254  0.17174838\n",
      "  -0.08914204]\n",
      " [ 0.02694529  0.35588627  0.7570356  ... -0.17754709  0.27125709\n",
      "  -0.23862258]\n",
      " ...\n",
      " [ 0.15673039  0.46907134  0.26953888 ...  0.10598562 -0.22738543\n",
      "  -0.08861795]\n",
      " [-0.66045501 -0.68614983 -0.50962593 ... -1.96026185  4.78791011\n",
      "  -0.02164599]\n",
      " [-0.50321408 -0.33334997 -0.1014067  ... -0.06872934  0.1655292\n",
      "  -0.16673982]]\n",
      "\n",
      "X_test_pca= [[-0.226659    2.60451796 -0.34930942 ... -0.0163555   0.0640107\n",
      "  -0.06045353]\n",
      " [-0.52601519 -0.35936308 -0.11511112 ... -0.07366795  0.1774763\n",
      "  -0.16975825]\n",
      " [ 0.16786694  3.11016422 -0.06824153 ...  0.06630746 -0.12636073\n",
      "  -0.00952854]\n",
      " ...\n",
      " [ 2.20550441 -0.51453087 -0.21104417 ... -0.06010178  0.11142986\n",
      "  -0.08982728]\n",
      " [-0.2891515  -0.17492961 -0.05225939 ...  0.11365228 -0.24288649\n",
      "   8.7555096 ]\n",
      " [ 0.16827989  3.11016711 -0.06815874 ...  0.06653177 -0.12646868\n",
      "  -0.00925212]]\n",
      "\n",
      "y_train= [[1. 0.]\n",
      " [1. 0.]\n",
      " [0. 1.]\n",
      " ...\n",
      " [0. 1.]\n",
      " [1. 0.]\n",
      " [1. 0.]]\n",
      "\n",
      "y_test= [[1. 0.]\n",
      " [0. 1.]\n",
      " [1. 0.]\n",
      " ...\n",
      " [1. 0.]\n",
      " [1. 0.]\n",
      " [0. 1.]]\n"
     ]
    }
   ],
   "source": [
    "# one-hotベクトルに変換\n",
    "from tensorflow.keras.utils import to_categorical\n",
    "y_train = to_categorical(y_train)\n",
    "y_test = to_categorical(y_test)\n",
    "\n",
    "print(\"X_train_pca=\",X_train_pca)\n",
    "print()\n",
    "print(\"X_test_pca=\",X_test_pca)\n",
    "print()\n",
    "print(\"y_train=\",y_train)\n",
    "print()\n",
    "print(\"y_test=\",y_test)"
   ]
  },
  {
   "cell_type": "markdown",
   "metadata": {},
   "source": [
    "### ・Tensorflowでニューラルネットワークを構築"
   ]
  },
  {
   "cell_type": "markdown",
   "metadata": {},
   "source": [
    "モデル2を構築する。13次元まで次元圧縮を行っているので、入力層の次元は13。"
   ]
  },
  {
   "cell_type": "code",
   "execution_count": 38,
   "metadata": {},
   "outputs": [
    {
     "name": "stdout",
     "output_type": "stream",
     "text": [
      "WARNING:tensorflow:From C:\\Users\\yoshi\\Anaconda3\\lib\\site-packages\\tensorflow\\python\\ops\\init_ops.py:1251: calling VarianceScaling.__init__ (from tensorflow.python.ops.init_ops) with dtype is deprecated and will be removed in a future version.\n",
      "Instructions for updating:\n",
      "Call initializer instance with the dtype argument instead of passing it to the constructor\n"
     ]
    }
   ],
   "source": [
    "from tensorflow.compat.v1.keras import Sequential\n",
    "from tensorflow.compat.v1.keras.layers import Dense, Dropout, Activation\n",
    "from tensorflow.compat.v1.keras.optimizers import SGD,RMSprop, Adagrad, Adadelta, Adam\n",
    "\n",
    "model2 = Sequential()\n",
    "model2.add(Dense(20, activation='relu', input_dim=13))   #13次元まで次元圧縮を行っているので、input_dimは13。\n",
    "model2.add(Dense(10, activation='relu', input_dim=20))\n",
    "model2.add(Dense(2, activation='softmax'))#最終層のactivationは変更しないこと\n",
    "\n",
    "# ------ 最適化手法 ------\n",
    "sgd = SGD(lr=0.01, momentum=0.9, nesterov=False)\n",
    "# rms = RMSprop(lr=0.01)\n",
    "# adag = Adagrad(lr=0.01)\n",
    "# adad = Adadelta(lr=0.01)\n",
    "# adam = Adam(lr=0.01)\n",
    "# -----------------------------\n",
    "\n",
    "model2.compile(loss='categorical_crossentropy',\n",
    "              optimizer=sgd,\n",
    "              metrics=['accuracy'])"
   ]
  },
  {
   "cell_type": "markdown",
   "metadata": {},
   "source": [
    "### ・次元圧縮したデータを用いたときのモデルの性能評価"
   ]
  },
  {
   "cell_type": "code",
   "execution_count": 39,
   "metadata": {},
   "outputs": [
    {
     "name": "stdout",
     "output_type": "stream",
     "text": [
      "Train on 232172 samples, validate on 99503 samples\n",
      "Epoch 1/50\n",
      "232172/232172 [==============================] - 5s 22us/sample - loss: 0.6476 - acc: 0.6286 - val_loss: 0.6463 - val_acc: 0.6281\n",
      "Epoch 2/50\n",
      "232172/232172 [==============================] - 5s 21us/sample - loss: 0.6451 - acc: 0.6315 - val_loss: 0.6429 - val_acc: 0.6361\n",
      "Epoch 3/50\n",
      "232172/232172 [==============================] - 5s 21us/sample - loss: 0.6441 - acc: 0.6330 - val_loss: 0.6425 - val_acc: 0.6331\n",
      "Epoch 4/50\n",
      "232172/232172 [==============================] - 5s 21us/sample - loss: 0.6434 - acc: 0.6333 - val_loss: 0.6434 - val_acc: 0.6332\n",
      "Epoch 5/50\n",
      "232172/232172 [==============================] - 5s 21us/sample - loss: 0.6430 - acc: 0.6335 - val_loss: 0.6425 - val_acc: 0.6390\n",
      "Epoch 6/50\n",
      "232172/232172 [==============================] - 5s 21us/sample - loss: 0.6428 - acc: 0.6341 - val_loss: 0.6419 - val_acc: 0.6399\n",
      "Epoch 7/50\n",
      "232172/232172 [==============================] - 5s 21us/sample - loss: 0.6427 - acc: 0.6344 - val_loss: 0.6431 - val_acc: 0.6387\n",
      "Epoch 8/50\n",
      "232172/232172 [==============================] - 5s 22us/sample - loss: 0.6423 - acc: 0.6347 - val_loss: 0.6428 - val_acc: 0.6382\n",
      "Epoch 9/50\n",
      "232172/232172 [==============================] - 5s 23us/sample - loss: 0.6424 - acc: 0.6339 - val_loss: 0.6399 - val_acc: 0.6364\n",
      "Epoch 10/50\n",
      "232172/232172 [==============================] - 5s 21us/sample - loss: 0.6423 - acc: 0.6345 - val_loss: 0.6398 - val_acc: 0.6381\n",
      "Epoch 11/50\n",
      "232172/232172 [==============================] - 5s 20us/sample - loss: 0.6421 - acc: 0.6340 - val_loss: 0.6404 - val_acc: 0.6311\n",
      "Epoch 12/50\n",
      "232172/232172 [==============================] - 5s 21us/sample - loss: 0.6419 - acc: 0.6337 - val_loss: 0.6396 - val_acc: 0.6372\n",
      "Epoch 13/50\n",
      "232172/232172 [==============================] - 5s 21us/sample - loss: 0.6416 - acc: 0.6347 - val_loss: 0.6404 - val_acc: 0.6331\n",
      "Epoch 14/50\n",
      "232172/232172 [==============================] - 5s 20us/sample - loss: 0.6416 - acc: 0.6342 - val_loss: 0.6394 - val_acc: 0.6392\n",
      "Epoch 15/50\n",
      "232172/232172 [==============================] - 5s 20us/sample - loss: 0.6415 - acc: 0.6342 - val_loss: 0.6404 - val_acc: 0.6378\n",
      "Epoch 16/50\n",
      "232172/232172 [==============================] - 5s 20us/sample - loss: 0.6412 - acc: 0.6342 - val_loss: 0.6405 - val_acc: 0.6378\n",
      "Epoch 17/50\n",
      "232172/232172 [==============================] - 5s 20us/sample - loss: 0.6412 - acc: 0.6346 - val_loss: 0.6398 - val_acc: 0.6363\n",
      "Epoch 18/50\n",
      "232172/232172 [==============================] - 5s 21us/sample - loss: 0.6410 - acc: 0.6348 - val_loss: 0.6402 - val_acc: 0.6324\n",
      "Epoch 19/50\n",
      "232172/232172 [==============================] - 5s 21us/sample - loss: 0.6409 - acc: 0.6345 - val_loss: 0.6394 - val_acc: 0.6387\n",
      "Epoch 20/50\n",
      "232172/232172 [==============================] - 5s 21us/sample - loss: 0.6409 - acc: 0.6340 - val_loss: 0.6394 - val_acc: 0.6309\n",
      "Epoch 21/50\n",
      "232172/232172 [==============================] - 5s 21us/sample - loss: 0.6412 - acc: 0.6340 - val_loss: 0.6382 - val_acc: 0.6391\n",
      "Epoch 22/50\n",
      "232172/232172 [==============================] - 5s 20us/sample - loss: 0.6408 - acc: 0.6337 - val_loss: 0.6388 - val_acc: 0.6353\n",
      "Epoch 23/50\n",
      "232172/232172 [==============================] - 5s 20us/sample - loss: 0.6405 - acc: 0.6345 - val_loss: 0.6389 - val_acc: 0.6297\n",
      "Epoch 24/50\n",
      "232172/232172 [==============================] - 5s 20us/sample - loss: 0.6406 - acc: 0.6343 - val_loss: 0.6395 - val_acc: 0.6305\n",
      "Epoch 25/50\n",
      "232172/232172 [==============================] - 5s 21us/sample - loss: 0.6404 - acc: 0.6345 - val_loss: 0.6381 - val_acc: 0.6392\n",
      "Epoch 26/50\n",
      "232172/232172 [==============================] - 5s 23us/sample - loss: 0.6403 - acc: 0.6348 - val_loss: 0.6449 - val_acc: 0.6172\n",
      "Epoch 27/50\n",
      "232172/232172 [==============================] - 6s 24us/sample - loss: 0.6403 - acc: 0.6350 - val_loss: 0.6373 - val_acc: 0.6394\n",
      "Epoch 28/50\n",
      "232172/232172 [==============================] - 5s 22us/sample - loss: 0.6402 - acc: 0.6347 - val_loss: 0.6372 - val_acc: 0.6394\n",
      "Epoch 29/50\n",
      "232172/232172 [==============================] - 5s 20us/sample - loss: 0.6400 - acc: 0.6347 - val_loss: 0.6391 - val_acc: 0.6377\n",
      "Epoch 30/50\n",
      "232172/232172 [==============================] - 5s 20us/sample - loss: 0.6400 - acc: 0.6347 - val_loss: 0.6394 - val_acc: 0.6356\n",
      "Epoch 31/50\n",
      "232172/232172 [==============================] - 5s 20us/sample - loss: 0.6401 - acc: 0.6347 - val_loss: 0.6391 - val_acc: 0.6379\n",
      "Epoch 32/50\n",
      "232172/232172 [==============================] - 5s 20us/sample - loss: 0.6398 - acc: 0.6345 - val_loss: 0.6378 - val_acc: 0.6382\n",
      "Epoch 33/50\n",
      "232172/232172 [==============================] - 5s 20us/sample - loss: 0.6396 - acc: 0.6344 - val_loss: 0.6363 - val_acc: 0.6384\n",
      "Epoch 34/50\n",
      "232172/232172 [==============================] - 5s 20us/sample - loss: 0.6395 - acc: 0.6345 - val_loss: 0.6380 - val_acc: 0.6386\n",
      "Epoch 35/50\n",
      "232172/232172 [==============================] - 5s 20us/sample - loss: 0.6395 - acc: 0.6347 - val_loss: 0.6367 - val_acc: 0.6387\n",
      "Epoch 36/50\n",
      "232172/232172 [==============================] - 5s 20us/sample - loss: 0.6398 - acc: 0.6332 - val_loss: 0.6376 - val_acc: 0.6342\n",
      "Epoch 37/50\n",
      "232172/232172 [==============================] - 5s 20us/sample - loss: 0.6395 - acc: 0.6342 - val_loss: 0.6380 - val_acc: 0.6345\n",
      "Epoch 38/50\n",
      "232172/232172 [==============================] - 5s 20us/sample - loss: 0.6393 - acc: 0.6342 - val_loss: 0.6361 - val_acc: 0.6393\n",
      "Epoch 39/50\n",
      "232172/232172 [==============================] - 5s 20us/sample - loss: 0.6395 - acc: 0.6336 - val_loss: 0.6367 - val_acc: 0.6396\n",
      "Epoch 40/50\n",
      "232172/232172 [==============================] - 5s 20us/sample - loss: 0.6391 - acc: 0.6338 - val_loss: 0.6363 - val_acc: 0.6392\n",
      "Epoch 41/50\n",
      "232172/232172 [==============================] - 5s 20us/sample - loss: 0.6393 - acc: 0.6332 - val_loss: 0.6376 - val_acc: 0.6329\n",
      "Epoch 42/50\n",
      "232172/232172 [==============================] - 5s 20us/sample - loss: 0.6386 - acc: 0.6339 - val_loss: 0.6358 - val_acc: 0.6380\n",
      "Epoch 43/50\n",
      "232172/232172 [==============================] - 5s 20us/sample - loss: 0.6389 - acc: 0.6344 - val_loss: 0.6365 - val_acc: 0.6381\n",
      "Epoch 44/50\n",
      "232172/232172 [==============================] - 5s 21us/sample - loss: 0.6386 - acc: 0.6337 - val_loss: 0.6366 - val_acc: 0.6367\n",
      "Epoch 45/50\n",
      "232172/232172 [==============================] - 5s 20us/sample - loss: 0.6387 - acc: 0.6340 - val_loss: 0.6362 - val_acc: 0.6371\n",
      "Epoch 46/50\n",
      "232172/232172 [==============================] - 5s 20us/sample - loss: 0.6387 - acc: 0.6336 - val_loss: 0.6385 - val_acc: 0.6353\n",
      "Epoch 47/50\n",
      "232172/232172 [==============================] - 5s 20us/sample - loss: 0.6386 - acc: 0.6339 - val_loss: 0.6359 - val_acc: 0.6374\n",
      "Epoch 48/50\n",
      "232172/232172 [==============================] - 5s 20us/sample - loss: 0.6385 - acc: 0.6342 - val_loss: 0.6358 - val_acc: 0.6399\n",
      "Epoch 49/50\n",
      "232172/232172 [==============================] - 5s 20us/sample - loss: 0.6385 - acc: 0.6335 - val_loss: 0.6379 - val_acc: 0.6372\n",
      "Epoch 50/50\n",
      "232172/232172 [==============================] - 5s 20us/sample - loss: 0.6382 - acc: 0.6349 - val_loss: 0.6386 - val_acc: 0.6381\n"
     ]
    },
    {
     "data": {
      "image/png": "[encoded data removed]",
      "text/plain": [
       "<Figure size 432x288 with 1 Axes>"
      ]
     },
     "metadata": {
      "needs_background": "light"
     },
     "output_type": "display_data"
    },
    {
     "data": {
      "image/png": "[encoded data removed]",
      "text/plain": [
       "<Figure size 432x288 with 1 Axes>"
      ]
     },
     "metadata": {
      "needs_background": "light"
     },
     "output_type": "display_data"
    }
   ],
   "source": [
    "# 計算の実行\n",
    "fit = model2.fit(X_train_pca, y_train,\n",
    "          epochs=50,\n",
    "          batch_size=20,validation_data=(X_test_pca, y_test))\n",
    "\n",
    "# 各epochにおける損失と精度をdfに入れる\n",
    "df = pd.DataFrame(fit.history)\n",
    "\n",
    "# グラフ化\n",
    "df[[\"loss\", \"val_loss\"]].plot()\n",
    "plt.ylabel(\"loss\")\n",
    "plt.xlabel(\"epoch\")\n",
    "plt.show()\n",
    "\n",
    "df[[\"acc\", \"val_acc\"]].plot()\n",
    "plt.ylabel(\"acc\")\n",
    "plt.xlabel(\"epoch\")\n",
    "plt.ylim([0,1.0])\n",
    "plt.show()"
   ]
  },
  {
   "cell_type": "markdown",
   "metadata": {},
   "source": [
    "val_accuracy：63.8％"
   ]
  },
  {
   "cell_type": "markdown",
   "metadata": {},
   "source": [
    "## (4-2) モデル2に対して交点探索"
   ]
  },
  {
   "cell_type": "markdown",
   "metadata": {},
   "source": [
    "モデル2に対して交点探索を適用し、ハイパーパラメータチューニングを行う。"
   ]
  },
  {
   "cell_type": "code",
   "execution_count": 40,
   "metadata": {},
   "outputs": [],
   "source": [
    "#モデル2を定義\n",
    "def model2(activation=\"relu\" , optimizer=\"sgd\"):\n",
    "    model = Sequential()\n",
    "    model.add(Dense(20, activation=activation, input_dim=13))\n",
    "    model.add(Dense(10, activation=activation, input_dim=20))\n",
    "    model.add(Dense(2, activation='softmax'))\n",
    "    optimizer = tf.keras.optimizers.RMSprop(0.0008)\n",
    "    model.compile(loss='categorical_crossentropy', optimizer=optimizer, metrics=['accuracy'])\n",
    "    return model"
   ]
  },
  {
   "cell_type": "code",
   "execution_count": 41,
   "metadata": {},
   "outputs": [
    {
     "name": "stderr",
     "output_type": "stream",
     "text": [
      "Using TensorFlow backend.\n",
      "C:\\Users\\yoshi\\Anaconda3\\lib\\site-packages\\sklearn\\model_selection\\_split.py:2053: FutureWarning: You should specify a value for 'cv' instead of relying on the default value. The default value will change from 3 to 5 in version 0.22.\n",
      "  warnings.warn(CV_WARNING, FutureWarning)\n"
     ]
    }
   ],
   "source": [
    "#交点探索対象のハイパーパラメーターを準備\n",
    "activation = [\"relu\",\"sigmoid\"] #sigmoid\n",
    "optimizer = [\"sgd\",\"adam\"] #adam\n",
    "nb_epoch = [30,50] #30,50\n",
    "batch_size = [5,10]  #5,10\n",
    "\n",
    "#交点探索対象のハイパーパラメーターを辞書型にまとめる\n",
    "param_grid = dict(activation=activation, optimizer=optimizer,nb_epoch=nb_epoch, batch_size=batch_size)\n",
    "\n",
    "#モデルを作成\n",
    "from keras.wrappers.scikit_learn import KerasClassifier\n",
    "model = KerasClassifier(build_fn = model2, verbose=0)\n",
    "\n",
    "#交点探索の実行\n",
    "grid = GridSearchCV(estimator=model, param_grid=param_grid)\n",
    "grid_result = grid.fit(X_train_pca, y_train)"
   ]
  },
  {
   "cell_type": "code",
   "execution_count": 42,
   "metadata": {},
   "outputs": [
    {
     "name": "stdout",
     "output_type": "stream",
     "text": [
      "{'activation': 'relu', 'batch_size': 5, 'nb_epoch': 50, 'optimizer': 'sgd'}\n",
      "0.6345252655078769\n"
     ]
    }
   ],
   "source": [
    "print (grid_result.best_params_)\n",
    "print (grid_result.best_score_)"
   ]
  },
  {
   "cell_type": "markdown",
   "metadata": {},
   "source": [
    "## (4-3) モデル2に対してランダムサーチ"
   ]
  },
  {
   "cell_type": "markdown",
   "metadata": {},
   "source": [
    "モデル2に対してランダムサーチを適用し、ハイパーパラメータチューニングを行う。"
   ]
  },
  {
   "cell_type": "code",
   "execution_count": 44,
   "metadata": {},
   "outputs": [
    {
     "name": "stderr",
     "output_type": "stream",
     "text": [
      "C:\\Users\\yoshi\\Anaconda3\\lib\\site-packages\\sklearn\\model_selection\\_split.py:2053: FutureWarning: You should specify a value for 'cv' instead of relying on the default value. The default value will change from 3 to 5 in version 0.22.\n",
      "  warnings.warn(CV_WARNING, FutureWarning)\n"
     ]
    }
   ],
   "source": [
    "#ランダムサーチ用パラメーターを準備\n",
    "activation = [\"relu\", \"sigmoid\"]\n",
    "optimizer = [\"sgd\", \"adam\"]\n",
    "nb_epoch = [30, 50]\n",
    "batch_size = [5, 10]\n",
    "\n",
    "#ランダムサーチ対象のハイパーパラメーターを辞書型にまとめる\n",
    "param_dict = dict(activation=activation, \n",
    "                  optimizer=optimizer,\n",
    "                  nb_epoch=nb_epoch, \n",
    "                  batch_size=batch_size)\n",
    "\n",
    "#モデルを作成\n",
    "model = KerasClassifier(build_fn = model2, verbose=0)\n",
    "\n",
    "#ランダムサーチの実行\n",
    "from sklearn.model_selection import RandomizedSearchCV\n",
    "rand = RandomizedSearchCV(estimator=model, param_distributions=param_dict, n_iter=10)\n",
    "rand_result = rand.fit(X_train_pca, y_train)"
   ]
  },
  {
   "cell_type": "code",
   "execution_count": 45,
   "metadata": {},
   "outputs": [
    {
     "name": "stdout",
     "output_type": "stream",
     "text": [
      "{'optimizer': 'adam', 'nb_epoch': 50, 'batch_size': 5, 'activation': 'relu'}\n",
      "0.6336982855114559\n"
     ]
    }
   ],
   "source": [
    "print (rand_result.best_params_)\n",
    "print (rand_result.best_score_)"
   ]
  },
  {
   "cell_type": "markdown",
   "metadata": {},
   "source": [
    "## (4-4) モデル2に対してベイズ最適化"
   ]
  },
  {
   "cell_type": "markdown",
   "metadata": {},
   "source": [
    "モデル2に対してベイズ最適化を適用し、ハイパーパラメータチューニングを行う。"
   ]
  },
  {
   "cell_type": "code",
   "execution_count": 46,
   "metadata": {},
   "outputs": [],
   "source": [
    "#モデル2を再定義\n",
    "def model2(lr, batch_size):  \n",
    "    model = Sequential()\n",
    "    model.add(Dense(20, activation=\"relu\", input_dim=13))\n",
    "    model.add(Dense(10, activation=\"relu\", input_dim=20))\n",
    "    model.add(Dense(2, activation='softmax'))\n",
    "    optimizer = tf.keras.optimizers.RMSprop(lr)\n",
    "    model.compile(loss='categorical_crossentropy', optimizer=optimizer, metrics=['accuracy'])\n",
    "    \n",
    "    #訓練データでトレーニング\n",
    "    model.fit(X_train_pca, y_train,verbose=0, batch_size=int(batch_size))  \n",
    "    \n",
    "    #テストデータで精度を確認\n",
    "    score = model.evaluate(X_test_pca, y_test)\n",
    "    return score[0]"
   ]
  },
  {
   "cell_type": "code",
   "execution_count": 49,
   "metadata": {},
   "outputs": [],
   "source": [
    "#ベイズ最適化用の関数\n",
    "def bayesOpt():\n",
    "    pbounds = {\n",
    "        'batch_size' : (5,10),\n",
    "        'lr' : (0.001, 1.0)\n",
    "    }\n",
    "    optimizer = BayesianOptimization(f=model2, pbounds=pbounds)\n",
    "    optimizer.maximize(init_points=5, n_iter=10, acq='ucb')\n",
    "    return optimizer"
   ]
  },
  {
   "cell_type": "code",
   "execution_count": 50,
   "metadata": {},
   "outputs": [
    {
     "name": "stdout",
     "output_type": "stream",
     "text": [
      "|   iter    |  target   | batch_... |    lr     |\n",
      "-------------------------------------------------\n",
      "99503/99503 [==============================] - 2s 19us/sample - loss: 0.7044 - acc: 0.5975\n",
      "| \u001b[0m 1       \u001b[0m | \u001b[0m 0.7044  \u001b[0m | \u001b[0m 8.073   \u001b[0m | \u001b[0m 0.3682  \u001b[0m |\n",
      "99503/99503 [==============================] - 2s 19us/sample - loss: 0.7269 - acc: 0.5975\n",
      "| \u001b[95m 2       \u001b[0m | \u001b[95m 0.7269  \u001b[0m | \u001b[95m 8.686   \u001b[0m | \u001b[95m 0.8939  \u001b[0m |\n",
      "99503/99503 [==============================] - 2s 20us/sample - loss: 0.6740 - acc: 0.5975\n",
      "| \u001b[0m 3       \u001b[0m | \u001b[0m 0.674   \u001b[0m | \u001b[0m 6.953   \u001b[0m | \u001b[0m 0.1044  \u001b[0m |\n",
      "99503/99503 [==============================] - 2s 20us/sample - loss: 1.5373 - acc: 0.4025\n",
      "| \u001b[95m 4       \u001b[0m | \u001b[95m 1.537   \u001b[0m | \u001b[95m 7.968   \u001b[0m | \u001b[95m 0.6425  \u001b[0m |\n",
      "99503/99503 [==============================] - 2s 20us/sample - loss: 0.6930 - acc: 0.5975\n",
      "| \u001b[0m 5       \u001b[0m | \u001b[0m 0.693   \u001b[0m | \u001b[0m 9.874   \u001b[0m | \u001b[0m 0.2739  \u001b[0m |\n",
      "99503/99503 [==============================] - 2s 21us/sample - loss: 0.7391 - acc: 0.4025\n",
      "| \u001b[0m 6       \u001b[0m | \u001b[0m 0.7391  \u001b[0m | \u001b[0m 6.313   \u001b[0m | \u001b[0m 0.9189  \u001b[0m |\n",
      "99503/99503 [==============================] - 2s 21us/sample - loss: 0.6783 - acc: 0.5975\n",
      "| \u001b[0m 7       \u001b[0m | \u001b[0m 0.6783  \u001b[0m | \u001b[0m 5.417   \u001b[0m | \u001b[0m 0.471   \u001b[0m |\n",
      "99503/99503 [==============================] - 2s 22us/sample - loss: 0.6933 - acc: 0.5975\n",
      "| \u001b[0m 8       \u001b[0m | \u001b[0m 0.6933  \u001b[0m | \u001b[0m 7.962   \u001b[0m | \u001b[0m 0.6373  \u001b[0m |\n",
      "99503/99503 [==============================] - 2s 21us/sample - loss: 0.6744 - acc: 0.59750s - loss: 0.6744 - acc\n",
      "| \u001b[0m 9       \u001b[0m | \u001b[0m 0.6744  \u001b[0m | \u001b[0m 6.784   \u001b[0m | \u001b[0m 0.5132  \u001b[0m |\n",
      "99503/99503 [==============================] - 3s 26us/sample - loss: 0.8885 - acc: 0.5975\n",
      "| \u001b[0m 10      \u001b[0m | \u001b[0m 0.8885  \u001b[0m | \u001b[0m 5.78    \u001b[0m | \u001b[0m 0.5937  \u001b[0m |\n",
      "99503/99503 [==============================] - 2s 22us/sample - loss: 0.6984 - acc: 0.5975\n",
      "| \u001b[0m 11      \u001b[0m | \u001b[0m 0.6984  \u001b[0m | \u001b[0m 7.667   \u001b[0m | \u001b[0m 0.4422  \u001b[0m |\n",
      "99503/99503 [==============================] - 2s 21us/sample - loss: 0.7051 - acc: 0.5975\n",
      "| \u001b[0m 12      \u001b[0m | \u001b[0m 0.7051  \u001b[0m | \u001b[0m 7.967   \u001b[0m | \u001b[0m 0.652   \u001b[0m |\n",
      "99503/99503 [==============================] - 2s 20us/sample - loss: 1.0965 - acc: 0.5975\n",
      "| \u001b[0m 13      \u001b[0m | \u001b[0m 1.097   \u001b[0m | \u001b[0m 8.125   \u001b[0m | \u001b[0m 0.7983  \u001b[0m |\n",
      "99503/99503 [==============================] - 2s 22us/sample - loss: 0.6763 - acc: 0.5975\n",
      "| \u001b[0m 14      \u001b[0m | \u001b[0m 0.6763  \u001b[0m | \u001b[0m 5.45    \u001b[0m | \u001b[0m 0.1149  \u001b[0m |\n",
      "99503/99503 [==============================] - 2s 22us/sample - loss: 1.2554 - acc: 0.5975\n",
      "| \u001b[0m 15      \u001b[0m | \u001b[0m 1.255   \u001b[0m | \u001b[0m 8.334   \u001b[0m | \u001b[0m 0.893   \u001b[0m |\n",
      "=================================================\n"
     ]
    }
   ],
   "source": [
    "#ベイズ最適化の実行\n",
    "from bayes_opt import BayesianOptimization\n",
    "result = bayesOpt()"
   ]
  },
  {
   "cell_type": "code",
   "execution_count": 51,
   "metadata": {},
   "outputs": [
    {
     "data": {
      "text/plain": [
       "{'target': 1.5373350245477484,\n",
       " 'params': {'batch_size': 7.968235896623833, 'lr': 0.6425437148099099}}"
      ]
     },
     "execution_count": 51,
     "metadata": {},
     "output_type": "execute_result"
    }
   ],
   "source": [
    "result.max"
   ]
  },
  {
   "cell_type": "code",
   "execution_count": 52,
   "metadata": {},
   "outputs": [
    {
     "name": "stdout",
     "output_type": "stream",
     "text": [
      "99503/99503 [==============================] - 2s 23us/sample - loss: 0.6958 - acc: 0.5975\n",
      "0.6957843003940993\n"
     ]
    }
   ],
   "source": [
    "score=model2(0.6425437148099099,7.968235896623833)\n",
    "print(score)"
   ]
  },
  {
   "cell_type": "markdown",
   "metadata": {},
   "source": [
    "## (4-5) モデル2に対する交点探索、ランダムサーチ、ベイズ最適化の精度の比較"
   ]
  },
  {
   "cell_type": "markdown",
   "metadata": {},
   "source": [
    "モデル2に対する精度\n",
    "<br>\n",
    "・交点探索　　　　　63.5%\n",
    "<br>\n",
    "・ランダムサーチ　　63.3%\n",
    "<br>\n",
    "・ベイズ最適化　　　59.8%"
   ]
  },
  {
   "cell_type": "markdown",
   "metadata": {},
   "source": [
    "## (5) 次元圧縮していないデータを用いたときと次元圧縮したデータを用いたときの比較"
   ]
  },
  {
   "cell_type": "markdown",
   "metadata": {},
   "source": [
    "モデル1とモデル2の精度を比較する。"
   ]
  },
  {
   "cell_type": "markdown",
   "metadata": {},
   "source": [
    "　次元圧縮していないデータを用いたときの最も高い精度は64.4%であり、次元圧縮したデータを用いたときの最も高い精度は63.5%であった。この要因を考える。\n",
    "<br>\n",
    "　PCAを行った際の累積寄与率のグラフを見てみると、グラフは線形になっており、第4主成分から第16主成分まで、それぞれの寄与率が約6％で、ほとんど等しくなっていた。第一主成分、第二主成分の寄与率も約7％で、ほとんど変わらない。したがって、17次元から13次元まで次元圧縮することで、大きな情報が失われてしまい、結果として次元圧縮したデータを用いた時の方が精度が低くなってしまったのではないかと考えられる。しかし、PCAで次元圧縮することで、学習速度も早まり、精度も極端に落ちることはなかった。データによっては、次元圧縮により、説明変数(特徴量)が多いことによる過学習を避けることができ、結果汎化性能が上がることも大いにあると考えられる。"
   ]
  }
 ],
 "metadata": {
  "kernelspec": {
   "display_name": "Python 3",
   "language": "python",
   "name": "python3"
  },
  "language_info": {
   "codemirror_mode": {
    "name": "ipython",
    "version": 3
   },
   "file_extension": ".py",
   "mimetype": "text/x-python",
   "name": "python",
   "nbconvert_exporter": "python",
   "pygments_lexer": "ipython3",
   "version": "3.7.3"
  }
 },
 "nbformat": 4,
 "nbformat_minor": 2
}
